{
 "cells": [
  {
   "cell_type": "code",
   "execution_count": null,
   "id": "89d2f35f",
   "metadata": {},
   "outputs": [],
   "source": [
    "#TODO test con s/n minore di zero senza riaddestrare\n",
    "# TODO Correggi slide 20x10, 40x5\n",
    "# TODO Aggiungi mlflow"
   ]
  },
  {
   "cell_type": "code",
   "execution_count": 10,
   "id": "f928518b",
   "metadata": {},
   "outputs": [],
   "source": [
    "import netCDF4\n",
    "import numpy as np\n",
    "import pandas as pd\n",
    "import geopandas as gpd\n",
    "\n",
    "from datetime import datetime, timedelta\n",
    "from tqdm import tqdm\n",
    "from shapely.geometry import Point\n",
    "\n",
    "from scipy.stats import skew, kurtosis, entropy\n",
    "\n",
    "from scipy.fft import fft\n",
    "from sklearn.preprocessing import MinMaxScaler\n",
    "\n",
    "\n",
    "import os\n",
    "\n",
    "from pycaret.classification import setup, compare_models, tune_model, finalize_model, save_model, plot_model, evaluate_model, dashboard, save_experiment, blend_models, get_config\n",
    "\n",
    "import pyarrow as pa\n",
    "import pyarrow.parquet as pq\n",
    "from sklearn.model_selection import train_test_split\n",
    "\n",
    "\n"
   ]
  },
  {
   "cell_type": "code",
   "execution_count": 11,
   "id": "c3221e93",
   "metadata": {},
   "outputs": [],
   "source": [
    "\n",
    "class SurfaceTypeUtils:\n",
    "    surface_type_dict = {\n",
    "        -1: \"Ocean\",\n",
    "        0: \"NaN\",\n",
    "        1: \"Artifical\",\n",
    "        2: \"Barely vegetated\",\n",
    "        3: \"Inland water\",\n",
    "        4: \"Crop\",\n",
    "        5: \"Grass\",\n",
    "        6: \"Shrub\",\n",
    "        7: \"Forest\"\n",
    "    }\n",
    "    ddm_antennas = {\n",
    "        0: 'None',\n",
    "        1: 'Zenith',\n",
    "        2: 'LHCP',\n",
    "        3: 'RHCP',\n",
    "    }\n"
   ]
  },
  {
   "cell_type": "code",
   "execution_count": 12,
   "id": "25ff6f05",
   "metadata": {},
   "outputs": [],
   "source": [
    "\n",
    "class GeoUtils:\n",
    "    def __init__(self, world_shapefile_path):\n",
    "        self.world = gpd.read_file(world_shapefile_path)\n",
    "\n",
    "    @staticmethod\n",
    "    def add_seconds(time, seconds):\n",
    "        timestamp = datetime.strptime(time, \"%Y-%m-%d %H:%M:%S\")\n",
    "        new_timestamp = timestamp + timedelta(seconds=seconds)\n",
    "        return new_timestamp.strftime(\"%Y-%m-%d %H:%M:%S\")\n",
    "\n",
    "    def is_land(self, lat, lon):\n",
    "        point = Point(lon, lat)\n",
    "        return any(self.world.contains(point))\n",
    "\n",
    "    @staticmethod\n",
    "    def check_ocean_and_land(lst):\n",
    "        has_ocean = -1 in lst\n",
    "        has_land = any(1 <= num <= 7 for num in lst)\n",
    "        return has_ocean and has_land\n",
    "\n",
    "    @staticmethod\n",
    "    def fill_and_filter(arr):\n",
    "        mask_all_nan = np.all(np.isnan(arr), axis=(2, 3))\n",
    "        arr_filled = arr.copy()\n",
    "        for i in range(arr.shape[0]):\n",
    "            nan_indices = np.where(mask_all_nan[i])[0]\n",
    "            if len(nan_indices) > 0:\n",
    "                valid_indices = np.where(~mask_all_nan[i])[0]\n",
    "                if len(valid_indices) > 0:\n",
    "                    mean_matrix = np.nanmean(arr[i, valid_indices, :, :], axis=0)\n",
    "                    arr_filled[i, nan_indices, :, :] = mean_matrix\n",
    "        mask_discard = np.all(mask_all_nan, axis=1)\n",
    "        arr_filtered = arr_filled[~mask_discard]\n",
    "        return arr_filtered, list(np.where(mask_discard.astype(int) == 1)[0])\n"
   ]
  },
  {
   "cell_type": "code",
   "execution_count": 13,
   "id": "9909a029",
   "metadata": {},
   "outputs": [],
   "source": [
    "ROOT_DIR = 'E:/data/RONGOWAI_L1_SDR_V1.0/'"
   ]
  },
  {
   "cell_type": "markdown",
   "id": "9ce667d7",
   "metadata": {},
   "source": [
    "#### Funzione per il preprocessamento dei dati"
   ]
  },
  {
   "cell_type": "code",
   "execution_count": null,
   "id": "3489f028",
   "metadata": {},
   "outputs": [],
   "source": [
    "class NetCDFPreprocessor:\n",
    "    def __init__(self, root_dir):\n",
    "        self.root_dir = root_dir\n",
    "        self.netcdf_file_list = os.listdir(root_dir)\n",
    "\n",
    "    @staticmethod\n",
    "    def check_integrity(f):\n",
    "        \"\"\"Check integrity of the netCDF file\"\"\"\n",
    "        if not isinstance(f, netCDF4.Dataset):\n",
    "            raise ValueError(\"Input must be a netCDF4.Dataset object\")\n",
    "        if 'raw_counts' not in f.variables:\n",
    "            raise KeyError(\"The netCDF file does not contain 'raw_counts' variable\")\n",
    "        if 'sp_alt' not in f.variables or 'sp_inc_angle' not in f.variables:\n",
    "            raise KeyError(\"The netCDF file does not contain 'sp_alt' or 'sp_inc_angle' variables\")\n",
    "        if 'sp_rx_gain_copol' not in f.variables or 'sp_rx_gain_xpol' not in f.variables or 'ddm_snr' not in f.variables:\n",
    "            raise KeyError(\"The netCDF file does not contain 'sp_rx_gain_copol', 'sp_rx_gain_xpol' or 'ddm_snr' variables\")\n",
    "        if 'sp_lat' not in f.variables or 'sp_lon' not in f.variables:\n",
    "            raise KeyError(\"The netCDF file does not contain 'sp_lat' or 'sp_lon' variables\")\n",
    "        if 'sp_surface_type' not in f.variables:\n",
    "            raise KeyError(\"The netCDF file does not contain 'sp_surface_type' variable\")\n",
    "        if 'ac_alt' not in f.variables:\n",
    "            raise KeyError(\"The netCDF file does not contain 'ac_alt' variable\")\n",
    "        if f.variables['raw_counts'].ndim != 4:\n",
    "            raise ValueError(\"The 'raw_counts' variable must have 4 dimensions\")\n",
    "        \n",
    "    def preprocess(self, f):\n",
    "        \"\"\" Preprocess the netCDF file and return fit data and labels \"\"\"\n",
    "        # Check integrity of the netCDF file\n",
    "        self.check_integrity(f)\n",
    "        \n",
    "        # Carica i dati una volta sola, evitando np.array() non necessario\n",
    "        raw_counts = f.variables['raw_counts'][:]\n",
    "        \n",
    "        # Ottimizzazione 1: Usa broadcasting invece di repeat\n",
    "        ac_alt = f.variables['ac_alt'][:]\n",
    "        sp_alt = f.variables['sp_alt'][:]\n",
    "        sp_inc_angle = f.variables['sp_inc_angle'][:]\n",
    "        \n",
    "        # Broadcasting più efficiente (evita repeat)\n",
    "        distance_2d = (ac_alt[:, np.newaxis] - sp_alt) / np.cos(np.deg2rad(sp_inc_angle))\n",
    "        \n",
    "        # Carica tutte le variabili necessarie\n",
    "        copol = f.variables['sp_rx_gain_copol'][:]\n",
    "        xpol = f.variables['sp_rx_gain_xpol'][:]\n",
    "        snr = f.variables['ddm_snr'][:]\n",
    "        \n",
    "        \n",
    "        keep_mask = (\n",
    "            (copol >= 5) & \n",
    "            (xpol >= 5) & \n",
    "            (snr > 0) & \n",
    "            (distance_2d >= 2000) & \n",
    "            (distance_2d <= 10000) &\n",
    "            ~np.isnan(copol) & \n",
    "            ~np.isnan(xpol) & \n",
    "            ~np.isnan(snr) & \n",
    "            ~np.isnan(distance_2d)\n",
    "        )\n",
    "        \n",
    "        output_array = np.full(raw_counts.shape, np.nan, dtype=np.float32)\n",
    "        i_indices, j_indices = np.where(keep_mask)\n",
    "        output_array[i_indices, j_indices] = raw_counts[i_indices, j_indices]\n",
    "        \n",
    "        n_time, n_samples = raw_counts.shape[:2]\n",
    "        raw_counts_reshaped = output_array.reshape(n_time * n_samples, *raw_counts.shape[2:])\n",
    "        \n",
    "        valid_mask = ~np.any(np.isnan(raw_counts_reshaped), axis=(1, 2)) & (np.sum(raw_counts_reshaped, axis=(1, 2)) > 0)\n",
    "        \n",
    "        fit_data = raw_counts_reshaped[valid_mask].reshape(valid_mask.sum(), -1)\n",
    "        \n",
    "        surface_types = np.nan_to_num(f.variables[\"sp_surface_type\"][:], nan=0).ravel()\n",
    "        print(surface_types)\n",
    "        label_data = np.isin(surface_types, np.arange(1, 8)).astype(np.int32)\n",
    "        \n",
    "        print(label_data)\n",
    "        label_data = label_data[valid_mask]\n",
    "        \n",
    "        assert fit_data.shape[0] == len(label_data), \\\n",
    "            f\"Shape mismatch: fit_data {fit_data.shape[0]}, label_data {len(label_data)}\"\n",
    "        \n",
    "        return fit_data, label_data\n",
    "    \n",
    "    # Old preprocess.\n",
    "    # Versione precedente della funzione preprocess, mantenuta per compatibilità o confronto.\n",
    "    # Questa funzione esegue il preprocessing dei dati netCDF applicando filtri su variabili chiave\n",
    "    # (come sp_rx_gain_copol, sp_rx_gain_xpol, ddm_snr e distanza tra antenna e punto speculare),\n",
    "    # rimuove i dati non validi (NaN o fuori soglia), e restituisce i dati filtrati (fit_data)\n",
    "    # insieme alle etichette binarie (label_data) basate sul tipo di superficie.\n",
    "    # La funzione effettua reshape e mascheramento dei dati per garantire che solo i campioni validi\n",
    "    # vengano utilizzati per l'addestramento o la valutazione di modelli di machine learning.\n",
    "    \n",
    "    #def preprocess(self, f):\n",
    "\n",
    "        \"\"\" Preprocess the netCDF file and return fit data and labels \"\"\"\n",
    "        # Check integrity of the netCDF file\n",
    "        self.check_integrity(f)\n",
    "        \n",
    "        raw_counts = np.array(f.variables['raw_counts'])\n",
    "        \n",
    "        # Calcolo distanza tra il punto speculare e l'aereo\n",
    "        ac_alt_2d = np.repeat(np.array(f.variables['ac_alt'])[:, np.newaxis], 20, axis=1)\n",
    "        distance_2d = (ac_alt_2d - f.variables['sp_alt'][:]) / np.cos(np.deg2rad(f.variables['sp_inc_angle'][:]))\n",
    "\n",
    "        # Seleziono gli indici dove sp_rx_gain_copol > 5, sp_rx_gain_xpol > 5 e ddm_snr > 0 e distanza tra punto speculare e antenna > 2000 e < 10000\n",
    "\n",
    "        copol = f.variables['sp_rx_gain_copol'][:]\n",
    "        xpol = f.variables['sp_rx_gain_xpol'][:]\n",
    "        snr = f.variables['ddm_snr'][:]\n",
    "        dist = distance_2d[:]\n",
    "        \n",
    "        # Filtraggio dei dati\n",
    "        keep_mask = (copol >= 5) & (xpol >= 5) & (snr > 0) & ((dist >= 2000) & (dist <= 10000)) & (~np.isnan(copol.data) & ~np.isnan(xpol.data) & ~np.isnan(snr.data) & ~np.isnan(dist.data))\n",
    "        to_keep_indices = np.argwhere(keep_mask)\n",
    "        filtered_raw_counts = [raw_counts[i, j] for i, j in to_keep_indices]\n",
    "        output_array = np.full(raw_counts.shape, np.nan, dtype=np.float32)\n",
    "       \n",
    "        for idx, (i, j) in enumerate(to_keep_indices):\n",
    "            output_array[i, j] = filtered_raw_counts[idx]\n",
    "            \n",
    "        raw_counts_filtered = output_array.copy()\n",
    "        \n",
    "        del output_array\n",
    "\n",
    "        ddm_data_dict = {\n",
    "            'Raw_Counts': raw_counts_filtered.reshape(raw_counts_filtered.shape[0]*raw_counts_filtered.shape[1], raw_counts_filtered.shape[2], raw_counts_filtered.shape[3]),\n",
    "        }\n",
    "        keep_indices = np.where(\n",
    "            np.all(~np.isnan(ddm_data_dict['Raw_Counts']), axis=(1, 2)) & (np.sum(ddm_data_dict['Raw_Counts'], axis=(1, 2)) > 0)\n",
    "        )[0]\n",
    "        fit_data = np.array([ddm_data_dict['Raw_Counts'][f].ravel() for f in keep_indices])\n",
    "        surface_types = f.variables[\"sp_surface_type\"][:]\n",
    "        surface_types = np.nan_to_num(surface_types, nan=0)\n",
    "        surface_types_unravelled = surface_types.ravel()\n",
    "        label_data = [1 if surface_type in np.arange(1, 8) else 0 for surface_type in surface_types_unravelled]\n",
    "        label_data = [label_data[lab] for lab in range(len(label_data)) if lab in keep_indices]\n",
    "\n",
    "        assert np.array(fit_data).shape[0] == len(label_data), \\\n",
    "            f\"Shape mismatch: fit_data {np.array(fit_data).shape[0]}, label_data {len(label_data)}\"\n",
    "\n",
    "        return fit_data, label_data\n",
    "    \n",
    "\n",
    "    def preprocess_w_lat_lons(self, f):\n",
    "        \"\"\" Version with latitude and longitude extraction \"\"\"\n",
    "\n",
    "        self.check_integrity(f)\n",
    "        raw_counts = np.array(f.variables['raw_counts'])\n",
    "                \n",
    "        # Calcolo distanza tra il punto speculare e l'aereo\n",
    "        ac_alt_2d = np.repeat(np.array(f.variables['ac_alt'])[:, np.newaxis], 20, axis=1)\n",
    "        distance_2d = (ac_alt_2d - f.variables['sp_alt'][:]) / np.cos(np.deg2rad(f.variables['sp_inc_angle'][:]))\n",
    "\n",
    "        # Seleziono gli indici dove sp_rx_gain_copol > 5, sp_rx_gain_xpol > 5 e ddm_snr > 0 e distanza tra punto speculare e antenna > 2000 e < 10000\n",
    "\n",
    "        copol = f.variables['sp_rx_gain_copol'][:]\n",
    "        xpol = f.variables['sp_rx_gain_xpol'][:]\n",
    "        snr = f.variables['ddm_snr'][:]\n",
    "        dist = distance_2d[:]\n",
    "        specular_point_lat = f.variables['sp_lat'][:]\n",
    "        specular_point_lon = f.variables['sp_lon'][:]\n",
    "\n",
    "        # Filtraggio dei dati\n",
    "        keep_mask = (copol >= 5) & (xpol >= 5) & (snr > 0) & ((dist >= 2000) & (dist <= 10000)) & (~np.isnan(copol.data) & ~np.isnan(xpol.data) & ~np.isnan(snr.data) & ~np.isnan(dist.data) & ~np.isnan(specular_point_lat.data) & ~np.isnan(specular_point_lon.data))\n",
    "        to_keep_indices = np.argwhere(keep_mask)\n",
    "        \n",
    "        filtered_raw_counts = [raw_counts[i, j] for i, j in to_keep_indices]\n",
    "        output_array = np.full(raw_counts.shape, np.nan, dtype=np.float32)\n",
    "\n",
    "        specular_point_lats = specular_point_lat[to_keep_indices[:, 0]]\n",
    "        specular_point_lons = specular_point_lon[to_keep_indices[:, 0]]\n",
    "        \n",
    "        for idx, (i, j) in enumerate(to_keep_indices):\n",
    "            output_array[i, j] = filtered_raw_counts[idx]\n",
    "                \n",
    "            raw_counts_filtered = output_array.copy()\n",
    "\n",
    "        raw_counts_filtered = output_array.copy()\n",
    "        del output_array\n",
    "\n",
    "        ddm_data_dict = {\n",
    "            'Raw_Counts': raw_counts_filtered.reshape(raw_counts_filtered.shape[0]*raw_counts_filtered.shape[1], raw_counts_filtered.shape[2], raw_counts_filtered.shape[3]),\n",
    "        }\n",
    "\n",
    "        keep_indices = np.where(\n",
    "            np.all(~np.isnan(ddm_data_dict['Raw_Counts']), axis=(1, 2)) & (np.sum(ddm_data_dict['Raw_Counts'], axis=(1, 2)) > 0)\n",
    "        )[0]\n",
    "        fit_data = np.array([ddm_data_dict['Raw_Counts'][f].ravel() for f in keep_indices])\n",
    "\n",
    "        specular_point_lats = specular_point_lat.ravel()[keep_indices]\n",
    "        specular_point_lons = specular_point_lon.ravel()[keep_indices]\n",
    "        \n",
    "        surface_types = f.variables[\"sp_surface_type\"][:]\n",
    "        surface_types = np.nan_to_num(surface_types, nan=0)\n",
    "        surface_types_unravelled = surface_types.ravel()\n",
    "        label_data = [1 if surface_type in np.arange(1, 8) else 0 for surface_type in surface_types_unravelled]\n",
    "        label_data = [label_data[lab] for lab in range(len(label_data)) if lab in keep_indices]\n",
    "\n",
    "        assert np.array(fit_data).shape[0] == len(label_data) == np.array(specular_point_lats).shape[0] == np.array(specular_point_lons).shape[0], \\\n",
    "            f\"Shape mismatch: fit_data {np.array(fit_data).shape[0]}, label_data {len(label_data)}, lats {np.array(specular_point_lats).shape[0]}, lons {np.array(specular_point_lons).shape[0]}\"\n",
    "        \n",
    "\n",
    "        return fit_data, label_data, specular_point_lats, specular_point_lons\n",
    "\n",
    "\n",
    "    def process_all_files(self, chunk_size = int, sample_fraction = float, remove_chunks= bool):\n",
    "        \n",
    "        full_data = []\n",
    "        full_labels = []\n",
    "        counter = 0\n",
    "        for file_name in tqdm(self.netcdf_file_list, desc=\"Processing files\"):\n",
    "            if not file_name.endswith('.nc'):\n",
    "                continue\n",
    "            try:\n",
    "                f = netCDF4.Dataset(f'{self.root_dir}{file_name}')\n",
    "                data, labels = self.preprocess(f)\n",
    "                assert (len(data) == len(labels)), f\"Data and labels length mismatch in file {file_name}: {len(data)} != {len(labels)}\"\n",
    "                full_data.append(data)\n",
    "                full_labels.append(labels)\n",
    "            except Exception as e:\n",
    "                print(f\"Error processing file {file_name}: {e}\")\n",
    "                continue\n",
    "            counter += 1\n",
    "            if counter == 20:\n",
    "                break  # Limita il numero di file processati per test\n",
    "                \n",
    "        # Trova gli indici degli elementi di full_data con seconda dimensione uguale a 200\n",
    "        valid_indices = [i for i, arr in enumerate(full_data) if arr.ndim == 2 if arr.shape[1] == 200]\n",
    "\n",
    "        # Applica la selezione a full_data e full_labels\n",
    "        full_data_clean = [full_data[i] for i in valid_indices]\n",
    "        full_labels_clean = [full_labels[i] for i in valid_indices]\n",
    "        \n",
    "        # Chunking \n",
    "        os.makedirs('processed_data/binary_classification', exist_ok=True)\n",
    "\n",
    "        chunk_size = chunk_size # dimensione del chunk in numero di campioni\n",
    "        sample_fraction = sample_fraction # frazione di dati da campionare per ogni chunk\n",
    "\n",
    "        full_data_sampled = []\n",
    "        full_labels_sampled = []\n",
    "\n",
    "        num_chunks = int(np.ceil(len(full_data_clean) / chunk_size))\n",
    "        print(f\"Total number of chunks: {num_chunks}\")\n",
    "        for idx in range(num_chunks):\n",
    "            start = idx * chunk_size\n",
    "            end = min((idx + 1) * chunk_size, len(full_data_clean))\n",
    "            chunk_data = np.vstack(full_data_clean[start:end])\n",
    "            chunk_labels = np.hstack(full_labels_clean[start:end])\n",
    "            \n",
    "            print(f\"Chunk {idx + 1}/{num_chunks} processed with shape {chunk_data.shape} and labels shape {chunk_labels.shape}\")\n",
    "\n",
    "            # Salva ogni chunk come file parquet separato\n",
    "            fit_data_df = pd.DataFrame(chunk_data)\n",
    "            labels_df = pd.DataFrame(chunk_labels, columns=['label'])\n",
    "\n",
    "            table_fit = pa.Table.from_pandas(fit_data_df, preserve_index=False)\n",
    "            table_labels = pa.Table.from_pandas(labels_df, preserve_index=False)\n",
    "\n",
    "            pq.write_table(\n",
    "                table_fit,\n",
    "                f'processed_data/binary_classification/fit_data_chunk_{idx}.parquet',\n",
    "                compression='zstd',\n",
    "                use_dictionary=True,\n",
    "            )\n",
    "            pq.write_table(\n",
    "                table_labels,\n",
    "                f'processed_data/binary_classification/labels_chunk_{idx}.parquet',\n",
    "                compression='zstd',\n",
    "                use_dictionary=True,\n",
    "            )\n",
    "            \n",
    "        # Imposta la frazione di dati da campionare per ogni chunk (es: 0.2 per il 20%)\n",
    "        \n",
    "            _, X_sampled, _, y_sampled = train_test_split(\n",
    "                chunk_data, chunk_labels, \n",
    "                test_size=sample_fraction, \n",
    "                stratify=chunk_labels, \n",
    "                random_state=42\n",
    "            )\n",
    "\n",
    "            \n",
    "            full_data_sampled.append(X_sampled)\n",
    "            full_labels_sampled.append(y_sampled)\n",
    "\n",
    "        del full_data, full_labels\n",
    "\n",
    "        full_data_sampled_stratified = np.vstack(full_data_sampled)\n",
    "        full_labels_sampled_stratified = np.hstack(full_labels_sampled)\n",
    "\n",
    "        del full_data_sampled, full_labels_sampled\n",
    "        print(f\"Shape of sampled data after chunking and sampling: {np.array(full_data_sampled_stratified).shape}\")\n",
    "        print(f\"Shape of sampled labels after chunking and sampling: {np.array(full_labels_sampled_stratified).shape}\")\n",
    "        \n",
    "        # Crea la cartella processed_data se non esiste\n",
    "        os.makedirs('processed_data/binary_classification', exist_ok=True)\n",
    "\n",
    "        # Salva fit_data in formato parquet \n",
    "        fit_data_df = pd.DataFrame(full_data_sampled_stratified)\n",
    "        table_fit = pa.Table.from_pandas(fit_data_df, preserve_index=False)\n",
    "        pq.write_table(\n",
    "            table_fit,\n",
    "            'processed_data/binary_classification/fit_data_stratified_binary.parquet',\n",
    "            compression='zstd',\n",
    "            use_dictionary=True,\n",
    "            \n",
    "        )\n",
    "\n",
    "        # Salva labels in formato parquet \n",
    "        labels_df = pd.DataFrame(full_labels_sampled_stratified, columns=['label'])\n",
    "        table_labels = pa.Table.from_pandas(labels_df, preserve_index=False)\n",
    "        pq.write_table(\n",
    "            table_labels,\n",
    "            'processed_data/binary_classification/labels_stratified_binary.parquet',\n",
    "            compression='zstd',\n",
    "            use_dictionary=True,\n",
    "            \n",
    "        )\n",
    "        del fit_data_df, labels_df, table_fit, table_labels\n",
    "        \n",
    "        print(\"Data and labels saved in processed_data/binary_classification directory.\")\n",
    "        # Remove all chunk parquet files if flag is set\n",
    "        if remove_chunks:\n",
    "            try:\n",
    "                chunk_dir = 'processed_data/binary_classification'\n",
    "                for fname in os.listdir(chunk_dir):\n",
    "                    if fname.startswith('fit_data_chunk_') or fname.startswith('labels_chunk_'):\n",
    "                        os.remove(os.path.join(chunk_dir, fname))\n",
    "                print(\"All chunk files removed.\")\n",
    "            except Exception as e:\n",
    "                print(f\"Error removing chunk files: {e}\")\n",
    "\n",
    "        return full_data_sampled_stratified, full_labels_sampled_stratified\n",
    "    "
   ]
  },
  {
   "cell_type": "markdown",
   "id": "b5bce80c",
   "metadata": {},
   "source": [
    "### Funzione per l'estrazione delle features"
   ]
  },
  {
   "cell_type": "code",
   "execution_count": 15,
   "id": "89cd8237",
   "metadata": {},
   "outputs": [],
   "source": [
    "class DDMFeatureExtractor:\n",
    "    def __init__(self):\n",
    "        pass\n",
    "    def gini(self, array):\n",
    "            \"\"\"Calcola il coefficiente di Gini (disuguaglianza)\"\"\"\n",
    "            array = np.sort(array)\n",
    "            index = np.arange(1, array.shape[0] + 1)\n",
    "            return (np.sum((2 * index - array.shape[0] - 1) * array)) / (array.shape[0] * np.sum(array))    \n",
    "    def extract_ddm_features(self, fit_data: np.ndarray) -> pd.DataFrame:\n",
    "\n",
    "        \"\"\"\n",
    "        Estrae features dettagliate da raw_counts DDM (shape: n_samples x 200)\n",
    "        \"\"\"\n",
    "        features = []\n",
    "\n",
    "        for row in tqdm(fit_data, desc=\"Extracting DDM features\"):\n",
    "            f = {}\n",
    "            x = np.array(row, dtype=np.float64) + 1e-10  # evita log(0)\n",
    "\n",
    "            # 1. Statistiche base\n",
    "            f['mean'] = np.mean(x)\n",
    "            f['std'] = np.std(x)\n",
    "            f['min'] = np.min(x)\n",
    "            f['max'] = np.max(x)\n",
    "            f['median'] = np.median(x)\n",
    "            f['range'] = np.max(x) - np.min(x)\n",
    "            f['skew'] = skew(x)\n",
    "            f['kurtosis'] = kurtosis(x)\n",
    "            f['entropy'] = entropy(x)\n",
    "            f['gini'] = self.gini(x)\n",
    "\n",
    "            # 2. Posizionali\n",
    "            f['peak_index'] = np.argmax(x)\n",
    "            f['peak_value'] = np.max(x)\n",
    "            f['center_of_mass'] = np.sum(np.arange(len(x)) * x) / np.sum(x)\n",
    "            f['inertia'] = np.sum(((np.arange(len(x)) - f['center_of_mass'])**2) * x)\n",
    "\n",
    "            # 3. Segmentazione\n",
    "            thirds = np.array_split(x, 3)\n",
    "            for i, part in enumerate(thirds):\n",
    "                f[f'sum_third_{i+1}'] = np.sum(part)\n",
    "                f[f'mean_third_{i+1}'] = np.mean(part)\n",
    "                f[f'max_third_{i+1}'] = np.max(part)\n",
    "            \n",
    "            windows = np.array_split(x, 5)\n",
    "            for i, w in enumerate(windows):\n",
    "                f[f'mean_w{i+1}'] = np.mean(w)\n",
    "                f[f'std_w{i+1}'] = np.std(w)\n",
    "                f[f'max_w{i+1}'] = np.max(w)\n",
    "\n",
    "            # 4. Derivate e cambiamenti\n",
    "            dx = np.diff(x)\n",
    "            f['mean_diff'] = np.mean(dx)\n",
    "            f['std_diff'] = np.std(dx)\n",
    "            f['max_diff'] = np.max(dx)\n",
    "            f['min_diff'] = np.min(dx)\n",
    "            f['n_positive_diff'] = np.sum(dx > 0)\n",
    "            f['n_negative_diff'] = np.sum(dx < 0)\n",
    "            f['n_zero_diff'] = np.sum(dx == 0)\n",
    "\n",
    "            # 5. Autocorrelazioni (lag 1-3)\n",
    "            for lag in range(1, 4):\n",
    "                ac = np.corrcoef(x[:-lag], x[lag:])[0, 1] if len(x) > lag else np.nan\n",
    "                f[f'autocorr_lag{lag}'] = ac\n",
    "\n",
    "            # 6. FFT (spettro frequenze)\n",
    "            spectrum = np.abs(fft(x))\n",
    "            half_spectrum = spectrum[:len(spectrum)//2]  # simmetrico\n",
    "            f['fft_peak_freq'] = np.argmax(half_spectrum)\n",
    "            f['fft_max'] = np.max(half_spectrum)\n",
    "            f['fft_median'] = np.median(half_spectrum)\n",
    "            f['fft_mean'] = np.mean(half_spectrum)\n",
    "\n",
    "            \n",
    "            #Aggiungi le statistiche dei quadranti e del centro\n",
    "            ddm = row.reshape(10, 20)  # 10x20\n",
    "\n",
    "            # Quadranti\n",
    "            q1 = ddm[:5, :10].ravel()\n",
    "            q2 = ddm[:5, 10:].ravel()\n",
    "            q3 = ddm[5:, :10].ravel()\n",
    "            q4 = ddm[5:, 10:].ravel()\n",
    "            # Quadrante centrale (4x8 centrale)\n",
    "            center = ddm[3:7, 6:14].ravel()\n",
    "            \n",
    "            # Statistiche dei quadranti \n",
    "            f['q1_mean'] = np.mean(q1)\n",
    "            f['q2_mean'] = np.mean(q2)      \n",
    "            f['q3_mean'] = np.mean(q3)\n",
    "            f['q4_mean'] = np.mean(q4)\n",
    "            f['center_mean'] = np.mean(center)\n",
    "            f['q1_std'] = np.std(q1)\n",
    "            f['q2_std'] = np.std(q2)\n",
    "            f['q3_std'] = np.std(q3)\n",
    "            f['q4_std'] = np.std(q4)\n",
    "            f['center_std'] = np.std(center)\n",
    "            f['q1_min'] = np.min(q1)\n",
    "            f['q2_min'] = np.min(q2)\n",
    "            f['q3_min'] = np.min(q3)\n",
    "            f['q4_min'] = np.min(q4)\n",
    "            f['center_min'] = np.min(center)\n",
    "            f['q1_max'] = np.max(q1)\n",
    "            f['q2_max'] = np.max(q2)\n",
    "            f['q3_max'] = np.max(q3)\n",
    "            f['q4_max'] = np.max(q4)\n",
    "            f['center_max'] = np.max(center)\n",
    "            f['q1_median'] = np.median(q1)\n",
    "            f['q2_median'] = np.median(q2)\n",
    "            f['q3_median'] = np.median(q3)\n",
    "            f['q4_median'] = np.median(q4)\n",
    "            f['center_median'] = np.median(center)\n",
    "            f['q1_range'] = np.max(q1) - np.min(q1)\n",
    "            f['q2_range'] = np.max(q2) - np.min(q2)\n",
    "            f['q3_range'] = np.max(q3) - np.min(q3)\n",
    "            f['q4_range'] = np.max(q4) - np.min(q4)\n",
    "            f['center_range'] = np.max(center) - np.min(center)\n",
    "            f['q1_skew'] = skew(q1)\n",
    "            f['q2_skew'] = skew(q2)\n",
    "            f['q3_skew'] = skew(q3)\n",
    "            f['q4_skew'] = skew(q4)\n",
    "            f['center_skew'] = skew(center)\n",
    "            f['q1_kurtosis'] = kurtosis(q1)\n",
    "            f['q2_kurtosis'] = kurtosis(q2)\n",
    "            f['q3_kurtosis'] = kurtosis(q3)\n",
    "            f['q4_kurtosis'] = kurtosis(q4)\n",
    "            f['center_kurtosis'] = kurtosis(center)\n",
    "            f['q1_entropy'] = entropy(q1 + 1e-10)\n",
    "            f['q2_entropy'] = entropy(q2 + 1e-10)\n",
    "            f['q3_entropy'] = entropy(q3 + 1e-10)\n",
    "            f['q4_entropy'] = entropy(q4 + 1e-10)\n",
    "            f['center_entropy'] = entropy(center + 1e-10)\n",
    "            f['q1_gini'] = self.gini(q1)\n",
    "            f['q2_gini'] = self.gini(q2)\n",
    "            f['q3_gini'] = self.gini(q3)\n",
    "            f['q4_gini'] = self.gini(q4)\n",
    "            f['center_gini'] = self.gini(center)\n",
    "\n",
    "            # Statistiche di confronto tra quadranti e centro\n",
    "            \n",
    "            # Differenze tra media dei quadranti e centro\n",
    "            f['q1_center_mean_diff'] = f['q1_mean'] - f['center_mean']\n",
    "            f['q2_center_mean_diff'] = f['q2_mean'] - f['center_mean']\n",
    "            f['q3_center_mean_diff'] = f['q3_mean'] - f['center_mean']\n",
    "            f['q4_center_mean_diff'] = f['q4_mean'] - f['center_mean']\n",
    "\n",
    "            # Differenze tra std dei quadranti e centro\n",
    "            f['q1_center_std_diff'] = f['q1_std'] - f['center_std']\n",
    "            f['q2_center_std_diff'] = f['q2_std'] - f['center_std']\n",
    "            f['q3_center_std_diff'] = f['q3_std'] - f['center_std']\n",
    "            f['q4_center_std_diff'] = f['q4_std'] - f['center_std']\n",
    "\n",
    "            # Differenze tra max dei quadranti e centro\n",
    "            f['q1_center_max_diff'] = f['q1_max'] - f['center_max']\n",
    "            f['q2_center_max_diff'] = f['q2_max'] - f['center_max']\n",
    "            f['q3_center_max_diff'] = f['q3_max'] - f['center_max']\n",
    "            f['q4_center_max_diff'] = f['q4_max'] - f['center_max']\n",
    "\n",
    "            # Differenze tra min dei quadranti e centro\n",
    "            f['q1_center_min_diff'] = f['q1_min'] - f['center_min']\n",
    "            f['q2_center_min_diff'] = f['q2_min'] - f['center_min']\n",
    "            f['q3_center_min_diff'] = f['q3_min'] - f['center_min']\n",
    "            f['q4_center_min_diff'] = f['q4_min'] - f['center_min']\n",
    "\n",
    "            # Differenze tra entropia dei quadranti e centro\n",
    "            f['q1_center_entropy_diff'] = f['q1_entropy'] - f['center_entropy']\n",
    "            f['q2_center_entropy_diff'] = f['q2_entropy'] - f['center_entropy']\n",
    "            f['q3_center_entropy_diff'] = f['q3_entropy'] - f['center_entropy']\n",
    "            f['q4_center_entropy_diff'] = f['q4_entropy'] - f['center_entropy']\n",
    "\n",
    "            # Differenze tra gini dei quadranti e centro\n",
    "            f['q1_center_gini_diff'] = f['q1_gini'] - f['center_gini']\n",
    "            f['q2_center_gini_diff'] = f['q2_gini'] - f['center_gini']\n",
    "            f['q3_center_gini_diff'] = f['q3_gini'] - f['center_gini']\n",
    "            f['q4_center_gini_diff'] = f['q4_gini'] - f['center_gini']\n",
    "\n",
    "            # Differenze tra skewness dei quadranti e centro\n",
    "            f['q1_center_skew_diff'] = f['q1_skew'] - f['center_skew']\n",
    "            f['q2_center_skew_diff'] = f['q2_skew'] - f['center_skew']\n",
    "            f['q3_center_skew_diff'] = f['q3_skew'] - f['center_skew']\n",
    "            f['q4_center_skew_diff'] = f['q4_skew'] - f['center_skew']\n",
    "\n",
    "            # Differenze tra kurtosis dei quadranti e centro\n",
    "            f['q1_center_kurtosis_diff'] = f['q1_kurtosis'] - f['center_kurtosis']\n",
    "            f['q2_center_kurtosis_diff'] = f['q2_kurtosis'] - f['center_kurtosis']\n",
    "            f['q3_center_kurtosis_diff'] = f['q3_kurtosis'] - f['center_kurtosis']\n",
    "            f['q4_center_kurtosis_diff'] = f['q4_kurtosis'] - f['center_kurtosis']\n",
    "\n",
    "            features.append(f)\n",
    "            \n",
    "        return features"
   ]
  },
  {
   "cell_type": "markdown",
   "id": "8e53778c",
   "metadata": {},
   "source": [
    "### Model trainer \n",
    "#### Classe che permette di testare modelli con Pycaret e tunare il migliore, oppure di creare un ensemble di più modelli"
   ]
  },
  {
   "cell_type": "code",
   "execution_count": 16,
   "id": "c0511771",
   "metadata": {},
   "outputs": [],
   "source": [
    "\n",
    "class ModelTrainer:\n",
    "    def __init__(self, data, labels):\n",
    "        self.data = data\n",
    "        self.labels = labels\n",
    "        self.final_model = None\n",
    "\n",
    "    def visualize_model_performances(self, model):\n",
    "\n",
    "        try:\n",
    "            print(\"Valutazione del modello...\")\n",
    "            evaluate_model(model)\n",
    "        except Exception as e:\n",
    "            print(f\"Errore durante la valutazione del modello: {e}\")\n",
    "        \n",
    "        try:\n",
    "            print(\"Creazione della matrice di confusione del modello...\")\n",
    "            plot_model(model, plot='confusion_matrix', save=True)\n",
    "            plot_model(model, plot='confusion_matrix', save=False)\n",
    "        except Exception as e:\n",
    "            print(f\"Errore durante la creazione della matrice di confusione: {e}\")\n",
    "\n",
    "        try:\n",
    "            print(\"Creazione del grafico delle feature del modello...\")\n",
    "            plot_model(model, plot='feature_all', save=True)\n",
    "            plot_model(model, plot='feature_all', save=False)\n",
    "        except Exception as e:\n",
    "            print(f\"Errore durante la creazione del grafico delle feature: {e}\")\n",
    "        \n",
    "        try:\n",
    "            print(\"Creazione del grafico delle feature del modello (top 20)...\")\n",
    "            plot_model(model, plot='feature', save=True)\n",
    "            plot_model(model, plot='feature', save=False)\n",
    "        except Exception as e:\n",
    "            print(f\"Errore durante la creazione del grafico delle feature (top 20): {e}\")\n",
    "        \n",
    "        try:\n",
    "            print(\"Creazione del grafico pipeline del modello...\")\n",
    "            plot_model(model, plot='pipeline', save=True)\n",
    "            plot_model(model, plot='pipeline', save=False)\n",
    "        except Exception as e:\n",
    "            print(f\"Errore durante la creazione del grafico pipeline: {e}\")\n",
    "\n",
    "        try:\n",
    "            print(\"Creazione curva auc...\")\n",
    "            plot_model(model, plot='auc', save=True)\n",
    "            plot_model(model, plot='auc', save=False)\n",
    "        except Exception as e:\n",
    "            print(f\"Errore durante la creazione della curva AUC: {e}\")\n",
    "        \n",
    "        try:\n",
    "            print(\"Creazione del grafico di vc...\")\n",
    "            plot_model(model, plot='vc', save=True)\n",
    "            plot_model(model, plot='vc', save=False)\n",
    "        except Exception as e:\n",
    "            print(f\"Errore durante la creazione del grafico di VC: {e}\")\n",
    "\n",
    "        try:\n",
    "            print(\"Creazione del report di classificazione del modello...\")\n",
    "            plot_model(model, plot='class_report', save=True)\n",
    "            plot_model(model, plot='class_report', save=False)\n",
    "        except Exception as e:\n",
    "            print(f\"Errore durante la creazione del report di classificazione: {e}\")\n",
    "        \n",
    "        try:\n",
    "            print(\"Creazione del grafico PR del modello...\")\n",
    "            plot_model(model, plot='pr', save=True)\n",
    "            plot_model(model, plot='pr', save=False)\n",
    "        except Exception as e:\n",
    "            print(f\"Errore durante la creazione del grafico PR: {e}\")\n",
    "        \n",
    "        try:\n",
    "            print(\"Calibrazione del modello...\")\n",
    "            plot_model(model, plot='calibration', save=True)\n",
    "            plot_model(model, plot='calibration', save=False)\n",
    "        except Exception as e:\n",
    "            print(f\"Errore durante la creazione del grafico di calibrazione: {e}\")\n",
    "\n",
    "\n",
    "    def search_and_train_single_model(self, model_search=True, n_sample_per_class=int):\n",
    "        os.environ[\"PYCARET_CUSTOM_LOGGING_LEVEL\"] = \"CRITICAL\"\n",
    "\n",
    "        # Campiona  righe con distribuzione bilanciata tra le classi di labels_df  \n",
    "        if n_sample_per_class <= 0:\n",
    "            features_df = self.data.reset_index(drop=True)\n",
    "            labels_df = self.labels.reset_index(drop=True)\n",
    "            print(\"Nessun campionamento effettuato, usando tutti i dati.\")\n",
    "        else:\n",
    "            sampled_indices = (\n",
    "                self.labels.groupby(self.labels.iloc[:, 0])\n",
    "                .apply(lambda x: x.sample(n=n_sample_per_class, random_state=42))\n",
    "                .index.get_level_values(1)\n",
    "            )\n",
    "            features_df = self.data.loc[sampled_indices].reset_index(drop=True)\n",
    "            labels_df = self.labels.loc[sampled_indices].reset_index(drop=True)\n",
    "            try:\n",
    "                print(f\"Dimensione dei dati di input: {features_df.shape}\")\n",
    "                print(f\"Dimensione delle etichette: {labels_df.shape}\")\n",
    "            except Exception as e:\n",
    "                print(f\"Errore durante la stampa delle dimensioni: {e}\")\n",
    "\n",
    "\n",
    "        if model_search:\n",
    "            scaler = MinMaxScaler()\n",
    "            fit_data_scaled = scaler.fit_transform(features_df)\n",
    "            clf_exp = setup(data=fit_data_scaled,\n",
    "                        target=labels_df['0'],\n",
    "                        #pca=True,\n",
    "                        #pca_method='incremental',\n",
    "                        use_gpu=True,\n",
    "                        feature_selection=True,\n",
    "                        n_features_to_select=.4,\n",
    "                        )\n",
    "            best_models = compare_models(n_select=3, \n",
    "                                         exclude=['gbc', 'dummy', 'qda', 'lda', 'nb', 'svm'],\n",
    "                                         sort='Accuracy',\n",
    "                                         )\n",
    "\n",
    "            best_model = best_models[0]\n",
    "\n",
    "            print(f\"Il modello migliore è: {best_model}\")\n",
    "            \n",
    "            print(\"Ottimizzazione degli iperparametri del modello migliore...\")\n",
    "            tuned_model = tune_model(best_model,\n",
    "                                    optimize='Accuracy',\n",
    "                                    n_iter=10,\n",
    "                                    search_library='optuna',\n",
    "                                    search_algorithm='tpe',\n",
    "                                    choose_better=True)\n",
    "            print(\"Valutazione del modello ottimizzato:\")\n",
    "\n",
    "            best_params = tuned_model.get_params()\n",
    "\n",
    "            print(\"Migliori iperparametri trovati:\")\n",
    "            for param, value in best_params.items():\n",
    "                print(f\"{param}: {value}\")\n",
    "\n",
    "            self.final_model = finalize_model(tuned_model)\n",
    "\n",
    "            # Salva il modello finale\n",
    "            save_model(self.final_model, 'best_binary_classification_model')\n",
    "            print(\"Modello finale salvato come 'best_binary_classification_model'.\")\n",
    "\n",
    "            try:\n",
    "                get_config(\"pipeline\")\n",
    "            except Exception as e:\n",
    "                print(f\"Errore durante il recupero della configurazione della pipeline: {e}\")\n",
    "            else:\n",
    "                print(\"Configurazione della pipeline salvata correttamente.\")\n",
    "\n",
    "            # Salva l'esperimento\n",
    "            save_experiment('binary_classification_experiment')\n",
    "            print(\"Esperimento salvato come 'binary_classification_experiment'.\")\n",
    "            self.visualize_model_performances(self.final_model)\n",
    "      \n",
    "        \n",
    "    def train_ensemble_model(self, n_sample_per_class=int):  \n",
    "        os.environ[\"PYCARET_CUSTOM_LOGGING_LEVEL\"] = \"CRITICAL\"\n",
    "\n",
    "        # Campiona  righe con distribuzione bilanciata tra le classi di labels_df  \n",
    "        if n_sample_per_class <= 0:\n",
    "            features_df = self.data.reset_index(drop=True)\n",
    "            labels_df = self.labels.reset_index(drop=True)\n",
    "            print(\"Nessun campionamento effettuato, usando tutti i dati.\")\n",
    "        else:\n",
    "            sampled_indices = (\n",
    "                self.labels.groupby(self.labels.iloc[:, 0])\n",
    "                .apply(lambda x: x.sample(n=n_sample_per_class, random_state=42))\n",
    "                .index.get_level_values(1)\n",
    "            )\n",
    "            features_df = self.data.loc[sampled_indices].reset_index(drop=True)\n",
    "            labels_df = self.labels.loc[sampled_indices].reset_index(drop=True)\n",
    "            try:\n",
    "                print(f\"Dimensione dei dati di input: {features_df.shape}\")\n",
    "                print(f\"Dimensione delle etichette: {labels_df.shape}\")\n",
    "            except Exception as e:\n",
    "                print(f\"Errore durante la stampa delle dimensioni: {e}\")\n",
    "\n",
    "        scaler = MinMaxScaler()\n",
    "        fit_data_scaled = scaler.fit_transform(features_df)\n",
    "        clf_exp = setup(data=fit_data_scaled,\n",
    "                    target=labels_df['0'],\n",
    "                    #pca=True,\n",
    "                    #pca_method='incremental',\n",
    "                    use_gpu=True,\n",
    "                    feature_selection=True,\n",
    "                    n_features_to_select=.4,\n",
    "                    )\n",
    "        \n",
    "        best_models = compare_models(n_select=3, \n",
    "                                        exclude=['gbc', 'dummy', 'qda', 'lda', 'nb', 'svm'],\n",
    "                                        sort='Accuracy',\n",
    "                                        )  \n",
    "        \n",
    "        print(\"Ensembling dei migliori modelli...\")\n",
    "        best_models = [model for model in best_models if model is not None]\n",
    "        print(f\"Modelli selezionati per l'ensembling: {best_models}\")\n",
    "        ensembled_models = blend_models(best_models, \n",
    "                                        method='soft', \n",
    "                                        fold=5, \n",
    "                                        optimize='Accuracy', \n",
    "                                        )\n",
    "        if ensembled_models is None:\n",
    "            print(\"Nessun modello ensembled creato. Verifica i modelli selezionati.\")\n",
    "            return\n",
    "        \n",
    "        print(f\"Modelli ensembled creati: {ensembled_models}\")\n",
    "        \n",
    "        try:\n",
    "            get_config(\"pipeline\")\n",
    "        except Exception as e:\n",
    "            print(f\"Errore durante il recupero della configurazione della pipeline: {e}\")\n",
    "        else:\n",
    "            print(\"Configurazione della pipeline salvata correttamente.\")\n",
    "\n",
    "        self.visualize_model_performances(ensembled_models)\n",
    "\n",
    "        self.final_ensembled_model = finalize_model(ensembled_models)\n",
    "        save_model(self.final_ensembled_model, 'best_binary_classification_ensembled_model')\n",
    "        save_experiment('binary_classification_ensembled_experiment')\n",
    "            "
   ]
  },
  {
   "cell_type": "markdown",
   "id": "2f9b1ac6",
   "metadata": {},
   "source": [
    "### Preprocessing e features extraction "
   ]
  },
  {
   "cell_type": "code",
   "execution_count": 17,
   "id": "02d804d6",
   "metadata": {},
   "outputs": [
    {
     "name": "stderr",
     "output_type": "stream",
     "text": [
      "Processing files:   0%|          | 2/4943 [00:00<06:22, 12.92it/s]"
     ]
    },
    {
     "name": "stdout",
     "output_type": "stream",
     "text": [
      "[7. 6. 7. ... 6. 0. 0.]\n",
      "[1 1 1 ... 1 0 0]\n",
      "[-1. -1.  3. ...  0.  0.  0.]\n",
      "[0 0 1 ... 0 0 0]\n",
      "[-1. -1.  0. ...  0.  0.  0.]\n",
      "[0 0 0 ... 0 0 0]\n"
     ]
    },
    {
     "name": "stderr",
     "output_type": "stream",
     "text": [
      "Processing files:   0%|          | 4/4943 [00:00<08:15,  9.96it/s]"
     ]
    },
    {
     "name": "stdout",
     "output_type": "stream",
     "text": [
      "[-1.  0.  0. ...  0.  0.  0.]\n",
      "[0 0 0 ... 0 0 0]\n",
      "[ 5.  4.  5. ...  5.  5. -1.]\n",
      "[1 1 1 ... 1 1 0]\n"
     ]
    },
    {
     "name": "stderr",
     "output_type": "stream",
     "text": [
      "Processing files:   0%|          | 7/4943 [00:00<09:24,  8.75it/s]"
     ]
    },
    {
     "name": "stdout",
     "output_type": "stream",
     "text": [
      "[ 7.  7. -1. ...  6.  3.  0.]\n",
      "[1 1 0 ... 1 1 0]\n",
      "[0. 0. 0. ... 6. 0. 0.]\n",
      "[0 0 0 ... 1 0 0]\n"
     ]
    },
    {
     "name": "stderr",
     "output_type": "stream",
     "text": [
      "Processing files:   0%|          | 8/4943 [00:00<10:45,  7.64it/s]"
     ]
    },
    {
     "name": "stdout",
     "output_type": "stream",
     "text": [
      "[ 3. -1. -1. ... -1. -1. -1.]\n",
      "[1 0 0 ... 0 0 0]\n",
      "[-1. -1. -1. ... -1.  5.  0.]\n",
      "[0 0 0 ... 0 1 0]\n"
     ]
    },
    {
     "name": "stderr",
     "output_type": "stream",
     "text": [
      "Processing files:   0%|          | 11/4943 [00:01<11:45,  6.99it/s]"
     ]
    },
    {
     "name": "stdout",
     "output_type": "stream",
     "text": [
      "[ 5.  1.  1. ... -1. -1.  0.]\n",
      "[1 1 1 ... 0 0 0]\n",
      "[ 4.  5.  5. ... -1. -1. -1.]\n",
      "[1 1 1 ... 0 0 0]\n"
     ]
    },
    {
     "name": "stderr",
     "output_type": "stream",
     "text": [
      "Processing files:   0%|          | 13/4943 [00:01<11:38,  7.06it/s]"
     ]
    },
    {
     "name": "stdout",
     "output_type": "stream",
     "text": [
      "[ 1. -1.  1. ...  5.  0.  0.]\n",
      "[1 0 1 ... 1 0 0]\n",
      "[-1. -1. -1. ...  0.  0.  0.]\n",
      "[0 0 0 ... 0 0 0]\n"
     ]
    },
    {
     "name": "stderr",
     "output_type": "stream",
     "text": [
      "Processing files:   0%|          | 15/4943 [00:01<09:14,  8.88it/s]"
     ]
    },
    {
     "name": "stdout",
     "output_type": "stream",
     "text": [
      "[ 5.  4.  4. ... -1. -1. -1.]\n",
      "[1 1 1 ... 0 0 0]\n",
      "[-1. -1. -1. ...  0.  0.  0.]\n",
      "[0 0 0 ... 0 0 0]\n",
      "[5. 7. 5. ... 5. 5. 5.]\n",
      "[1 1 1 ... 1 1 1]\n"
     ]
    },
    {
     "name": "stderr",
     "output_type": "stream",
     "text": [
      "Processing files:   0%|          | 18/4943 [00:02<09:26,  8.69it/s]"
     ]
    },
    {
     "name": "stdout",
     "output_type": "stream",
     "text": [
      "[-1. -1. -1. ...  4.  5.  0.]\n",
      "[0 0 0 ... 1 1 0]\n",
      "[5. 5. 5. ... 5. 5. 0.]\n",
      "[1 1 1 ... 1 1 0]\n",
      "[ 7. -1. -1. ...  0.  0.  0.]\n",
      "[1 0 0 ... 0 0 0]\n"
     ]
    },
    {
     "name": "stderr",
     "output_type": "stream",
     "text": [
      "Processing files:   0%|          | 19/4943 [00:02<10:13,  8.03it/s]\n"
     ]
    },
    {
     "name": "stdout",
     "output_type": "stream",
     "text": [
      "[-1. -1. -1. ...  5.  5.  5.]\n",
      "[0 0 0 ... 1 1 1]\n",
      "Total number of chunks: 1\n",
      "Chunk 1/1 processed with shape (75836, 200) and labels shape (75836,)\n",
      "Shape of sampled data after chunking and sampling: (53086, 200)\n",
      "Shape of sampled labels after chunking and sampling: (53086,)\n",
      "Data and labels saved in processed_data/binary_classification directory.\n",
      "All chunk files removed.\n"
     ]
    }
   ],
   "source": [
    "\n",
    "read_from_backup = False\n",
    "if read_from_backup:\n",
    "    \n",
    "    # Leggi i file parquet con polars\n",
    "    fit_data_pl = pd.read_parquet('C:/Users/atogni/Desktop/rongowai/processed_data/binary_classification/fit_data_stratified_binary.parquet')\n",
    "    labels_pl = pd.read_parquet('C:/Users/atogni/Desktop/rongowai/processed_data/binary_classification/labels_stratified_binary.parquet')\n",
    "\n",
    "    # Trasforma in numpy array\n",
    "    fit_data = fit_data_pl.to_numpy()\n",
    "    labels = labels_pl['label'].to_numpy()\n",
    "    del fit_data_pl, labels_pl\n",
    "else:\n",
    "    preprocessor = NetCDFPreprocessor(root_dir=ROOT_DIR)\n",
    "    fit_data, labels = preprocessor.process_all_files(chunk_size=250, sample_fraction=0.7,remove_chunks=True)\n",
    "\n"
   ]
  },
  {
   "cell_type": "code",
   "execution_count": 9,
   "id": "9bf9e1b5",
   "metadata": {},
   "outputs": [],
   "source": [
    "# Seleziona un numero casuale di righe da fit_data e labels\n",
    "num_samples = 2000000 \n",
    "indices = np.random.choice(fit_data.shape[0], size=num_samples, replace=False)\n",
    "fit_data = fit_data[indices]\n",
    "labels = labels[indices]"
   ]
  },
  {
   "cell_type": "code",
   "execution_count": 10,
   "id": "d57029eb",
   "metadata": {},
   "outputs": [],
   "source": [
    "preprocessor = NetCDFPreprocessor(root_dir=ROOT_DIR)\n",
    "features_extractor = DDMFeatureExtractor()"
   ]
  },
  {
   "cell_type": "code",
   "execution_count": 11,
   "id": "d92be66f",
   "metadata": {},
   "outputs": [
    {
     "name": "stderr",
     "output_type": "stream",
     "text": [
      "Estrazione features: 100%|██████████| 2000000/2000000 [1:35:51<00:00, 347.75it/s]   \n"
     ]
    }
   ],
   "source": [
    "from joblib import Parallel, delayed\n",
    "\n",
    "def extract_ddm_features_row(row):\n",
    "    return features_extractor.extract_ddm_features(np.array([row]))\n",
    "\n",
    "combined_features = Parallel(n_jobs=12, backend=\"loky\")(delayed(extract_ddm_features_row)(row) for row in tqdm(fit_data, desc=\"Estrazione features\"))"
   ]
  },
  {
   "cell_type": "code",
   "execution_count": null,
   "id": "c7423369",
   "metadata": {},
   "outputs": [],
   "source": [
    "flat_features = [row[0] if isinstance(row, list) and len(row) > 0 else row for row in combined_features]\n",
    "FEATURES = list(flat_features[0].keys())\n",
    "del combined_features\n",
    "\n",
    "\n",
    "combined_features = np.array([[row[key] for key in FEATURES] for row in flat_features])\n",
    "del flat_features\n",
    "combined_features.shape\n",
    "\n",
    "# Controlla infiniti o valori troppo grandi per float64\n",
    "mask_finite = np.isfinite(combined_features).all(axis=1) & (np.abs(combined_features) < np.finfo(np.float64).max).all(axis=1)\n",
    "\n",
    "fit_data_with_features_clean = combined_features[mask_finite]\n",
    "labels_clean = labels[mask_finite]\n",
    "del labels, fit_data\n"
   ]
  },
  {
   "cell_type": "code",
   "execution_count": 13,
   "id": "5eb513ab",
   "metadata": {},
   "outputs": [],
   "source": [
    "# Salvo le features e le labels in formato parquet\n",
    "save = True\n",
    "if save:\n",
    "    # Crea la cartella processed_data/binary_classification/data_w_features se non esiste\n",
    "    os.makedirs('processed_data/binary_classification/data_w_features', exist_ok=True)\n",
    "    pd.DataFrame(fit_data_with_features_clean, columns=FEATURES).to_parquet('processed_data/binary_classification/data_w_features/combined_features.parquet', index=False)\n",
    "    pd.DataFrame(labels_clean).to_parquet('processed_data/binary_classification/data_w_features/labels_binary_stats_features_only.parquet', index=False)"
   ]
  },
  {
   "cell_type": "code",
   "execution_count": 14,
   "id": "4b7665fa",
   "metadata": {},
   "outputs": [],
   "source": [
    "# Leggi i dati e le etichette dai file Parquet nella cartella preprocessed/binary/data_w_features\n",
    "features_df = pd.read_parquet('processed_data/binary_classification/data_w_features/combined_features.parquet')\n",
    "labels_df = pd.read_parquet('processed_data/binary_classification/data_w_features/labels_binary_stats_features_only.parquet')"
   ]
  },
  {
   "cell_type": "code",
   "execution_count": 15,
   "id": "9c505214",
   "metadata": {},
   "outputs": [
    {
     "data": {
      "application/vnd.microsoft.datawrangler.viewer.v0+json": {
       "columns": [
        {
         "name": "index",
         "rawType": "int64",
         "type": "integer"
        },
        {
         "name": "mean",
         "rawType": "float64",
         "type": "float"
        },
        {
         "name": "std",
         "rawType": "float64",
         "type": "float"
        },
        {
         "name": "min",
         "rawType": "float64",
         "type": "float"
        },
        {
         "name": "max",
         "rawType": "float64",
         "type": "float"
        },
        {
         "name": "median",
         "rawType": "float64",
         "type": "float"
        },
        {
         "name": "range",
         "rawType": "float64",
         "type": "float"
        },
        {
         "name": "skew",
         "rawType": "float64",
         "type": "float"
        },
        {
         "name": "kurtosis",
         "rawType": "float64",
         "type": "float"
        },
        {
         "name": "entropy",
         "rawType": "float64",
         "type": "float"
        },
        {
         "name": "gini",
         "rawType": "float64",
         "type": "float"
        },
        {
         "name": "peak_index",
         "rawType": "float64",
         "type": "float"
        },
        {
         "name": "peak_value",
         "rawType": "float64",
         "type": "float"
        },
        {
         "name": "center_of_mass",
         "rawType": "float64",
         "type": "float"
        },
        {
         "name": "inertia",
         "rawType": "float64",
         "type": "float"
        },
        {
         "name": "sum_third_1",
         "rawType": "float64",
         "type": "float"
        },
        {
         "name": "mean_third_1",
         "rawType": "float64",
         "type": "float"
        },
        {
         "name": "max_third_1",
         "rawType": "float64",
         "type": "float"
        },
        {
         "name": "sum_third_2",
         "rawType": "float64",
         "type": "float"
        },
        {
         "name": "mean_third_2",
         "rawType": "float64",
         "type": "float"
        },
        {
         "name": "max_third_2",
         "rawType": "float64",
         "type": "float"
        },
        {
         "name": "sum_third_3",
         "rawType": "float64",
         "type": "float"
        },
        {
         "name": "mean_third_3",
         "rawType": "float64",
         "type": "float"
        },
        {
         "name": "max_third_3",
         "rawType": "float64",
         "type": "float"
        },
        {
         "name": "mean_w1",
         "rawType": "float64",
         "type": "float"
        },
        {
         "name": "std_w1",
         "rawType": "float64",
         "type": "float"
        },
        {
         "name": "max_w1",
         "rawType": "float64",
         "type": "float"
        },
        {
         "name": "mean_w2",
         "rawType": "float64",
         "type": "float"
        },
        {
         "name": "std_w2",
         "rawType": "float64",
         "type": "float"
        },
        {
         "name": "max_w2",
         "rawType": "float64",
         "type": "float"
        },
        {
         "name": "mean_w3",
         "rawType": "float64",
         "type": "float"
        },
        {
         "name": "std_w3",
         "rawType": "float64",
         "type": "float"
        },
        {
         "name": "max_w3",
         "rawType": "float64",
         "type": "float"
        },
        {
         "name": "mean_w4",
         "rawType": "float64",
         "type": "float"
        },
        {
         "name": "std_w4",
         "rawType": "float64",
         "type": "float"
        },
        {
         "name": "max_w4",
         "rawType": "float64",
         "type": "float"
        },
        {
         "name": "mean_w5",
         "rawType": "float64",
         "type": "float"
        },
        {
         "name": "std_w5",
         "rawType": "float64",
         "type": "float"
        },
        {
         "name": "max_w5",
         "rawType": "float64",
         "type": "float"
        },
        {
         "name": "mean_diff",
         "rawType": "float64",
         "type": "float"
        },
        {
         "name": "std_diff",
         "rawType": "float64",
         "type": "float"
        },
        {
         "name": "max_diff",
         "rawType": "float64",
         "type": "float"
        },
        {
         "name": "min_diff",
         "rawType": "float64",
         "type": "float"
        },
        {
         "name": "n_positive_diff",
         "rawType": "float64",
         "type": "float"
        },
        {
         "name": "n_negative_diff",
         "rawType": "float64",
         "type": "float"
        },
        {
         "name": "n_zero_diff",
         "rawType": "float64",
         "type": "float"
        },
        {
         "name": "autocorr_lag1",
         "rawType": "float64",
         "type": "float"
        },
        {
         "name": "autocorr_lag2",
         "rawType": "float64",
         "type": "float"
        },
        {
         "name": "autocorr_lag3",
         "rawType": "float64",
         "type": "float"
        },
        {
         "name": "fft_peak_freq",
         "rawType": "float64",
         "type": "float"
        },
        {
         "name": "fft_max",
         "rawType": "float64",
         "type": "float"
        },
        {
         "name": "fft_median",
         "rawType": "float64",
         "type": "float"
        },
        {
         "name": "fft_mean",
         "rawType": "float64",
         "type": "float"
        },
        {
         "name": "q1_mean",
         "rawType": "float64",
         "type": "float"
        },
        {
         "name": "q2_mean",
         "rawType": "float64",
         "type": "float"
        },
        {
         "name": "q3_mean",
         "rawType": "float64",
         "type": "float"
        },
        {
         "name": "q4_mean",
         "rawType": "float64",
         "type": "float"
        },
        {
         "name": "center_mean",
         "rawType": "float64",
         "type": "float"
        },
        {
         "name": "q1_std",
         "rawType": "float64",
         "type": "float"
        },
        {
         "name": "q2_std",
         "rawType": "float64",
         "type": "float"
        },
        {
         "name": "q3_std",
         "rawType": "float64",
         "type": "float"
        },
        {
         "name": "q4_std",
         "rawType": "float64",
         "type": "float"
        },
        {
         "name": "center_std",
         "rawType": "float64",
         "type": "float"
        },
        {
         "name": "q1_min",
         "rawType": "float64",
         "type": "float"
        },
        {
         "name": "q2_min",
         "rawType": "float64",
         "type": "float"
        },
        {
         "name": "q3_min",
         "rawType": "float64",
         "type": "float"
        },
        {
         "name": "q4_min",
         "rawType": "float64",
         "type": "float"
        },
        {
         "name": "center_min",
         "rawType": "float64",
         "type": "float"
        },
        {
         "name": "q1_max",
         "rawType": "float64",
         "type": "float"
        },
        {
         "name": "q2_max",
         "rawType": "float64",
         "type": "float"
        },
        {
         "name": "q3_max",
         "rawType": "float64",
         "type": "float"
        },
        {
         "name": "q4_max",
         "rawType": "float64",
         "type": "float"
        },
        {
         "name": "center_max",
         "rawType": "float64",
         "type": "float"
        },
        {
         "name": "q1_median",
         "rawType": "float64",
         "type": "float"
        },
        {
         "name": "q2_median",
         "rawType": "float64",
         "type": "float"
        },
        {
         "name": "q3_median",
         "rawType": "float64",
         "type": "float"
        },
        {
         "name": "q4_median",
         "rawType": "float64",
         "type": "float"
        },
        {
         "name": "center_median",
         "rawType": "float64",
         "type": "float"
        },
        {
         "name": "q1_range",
         "rawType": "float64",
         "type": "float"
        },
        {
         "name": "q2_range",
         "rawType": "float64",
         "type": "float"
        },
        {
         "name": "q3_range",
         "rawType": "float64",
         "type": "float"
        },
        {
         "name": "q4_range",
         "rawType": "float64",
         "type": "float"
        },
        {
         "name": "center_range",
         "rawType": "float64",
         "type": "float"
        },
        {
         "name": "q1_skew",
         "rawType": "float64",
         "type": "float"
        },
        {
         "name": "q2_skew",
         "rawType": "float64",
         "type": "float"
        },
        {
         "name": "q3_skew",
         "rawType": "float64",
         "type": "float"
        },
        {
         "name": "q4_skew",
         "rawType": "float64",
         "type": "float"
        },
        {
         "name": "center_skew",
         "rawType": "float64",
         "type": "float"
        },
        {
         "name": "q1_kurtosis",
         "rawType": "float64",
         "type": "float"
        },
        {
         "name": "q2_kurtosis",
         "rawType": "float64",
         "type": "float"
        },
        {
         "name": "q3_kurtosis",
         "rawType": "float64",
         "type": "float"
        },
        {
         "name": "q4_kurtosis",
         "rawType": "float64",
         "type": "float"
        },
        {
         "name": "center_kurtosis",
         "rawType": "float64",
         "type": "float"
        },
        {
         "name": "q1_entropy",
         "rawType": "float64",
         "type": "float"
        },
        {
         "name": "q2_entropy",
         "rawType": "float64",
         "type": "float"
        },
        {
         "name": "q3_entropy",
         "rawType": "float64",
         "type": "float"
        },
        {
         "name": "q4_entropy",
         "rawType": "float64",
         "type": "float"
        },
        {
         "name": "center_entropy",
         "rawType": "float64",
         "type": "float"
        },
        {
         "name": "q1_gini",
         "rawType": "float64",
         "type": "float"
        },
        {
         "name": "q2_gini",
         "rawType": "float64",
         "type": "float"
        },
        {
         "name": "q3_gini",
         "rawType": "float64",
         "type": "float"
        },
        {
         "name": "q4_gini",
         "rawType": "float64",
         "type": "float"
        },
        {
         "name": "center_gini",
         "rawType": "float64",
         "type": "float"
        },
        {
         "name": "q1_center_mean_diff",
         "rawType": "float64",
         "type": "float"
        },
        {
         "name": "q2_center_mean_diff",
         "rawType": "float64",
         "type": "float"
        },
        {
         "name": "q3_center_mean_diff",
         "rawType": "float64",
         "type": "float"
        },
        {
         "name": "q4_center_mean_diff",
         "rawType": "float64",
         "type": "float"
        },
        {
         "name": "q1_center_std_diff",
         "rawType": "float64",
         "type": "float"
        },
        {
         "name": "q2_center_std_diff",
         "rawType": "float64",
         "type": "float"
        },
        {
         "name": "q3_center_std_diff",
         "rawType": "float64",
         "type": "float"
        },
        {
         "name": "q4_center_std_diff",
         "rawType": "float64",
         "type": "float"
        },
        {
         "name": "q1_center_max_diff",
         "rawType": "float64",
         "type": "float"
        },
        {
         "name": "q2_center_max_diff",
         "rawType": "float64",
         "type": "float"
        },
        {
         "name": "q3_center_max_diff",
         "rawType": "float64",
         "type": "float"
        },
        {
         "name": "q4_center_max_diff",
         "rawType": "float64",
         "type": "float"
        },
        {
         "name": "q1_center_min_diff",
         "rawType": "float64",
         "type": "float"
        },
        {
         "name": "q2_center_min_diff",
         "rawType": "float64",
         "type": "float"
        },
        {
         "name": "q3_center_min_diff",
         "rawType": "float64",
         "type": "float"
        },
        {
         "name": "q4_center_min_diff",
         "rawType": "float64",
         "type": "float"
        },
        {
         "name": "q1_center_entropy_diff",
         "rawType": "float64",
         "type": "float"
        },
        {
         "name": "q2_center_entropy_diff",
         "rawType": "float64",
         "type": "float"
        },
        {
         "name": "q3_center_entropy_diff",
         "rawType": "float64",
         "type": "float"
        },
        {
         "name": "q4_center_entropy_diff",
         "rawType": "float64",
         "type": "float"
        },
        {
         "name": "q1_center_gini_diff",
         "rawType": "float64",
         "type": "float"
        },
        {
         "name": "q2_center_gini_diff",
         "rawType": "float64",
         "type": "float"
        },
        {
         "name": "q3_center_gini_diff",
         "rawType": "float64",
         "type": "float"
        },
        {
         "name": "q4_center_gini_diff",
         "rawType": "float64",
         "type": "float"
        },
        {
         "name": "q1_center_skew_diff",
         "rawType": "float64",
         "type": "float"
        },
        {
         "name": "q2_center_skew_diff",
         "rawType": "float64",
         "type": "float"
        },
        {
         "name": "q3_center_skew_diff",
         "rawType": "float64",
         "type": "float"
        },
        {
         "name": "q4_center_skew_diff",
         "rawType": "float64",
         "type": "float"
        },
        {
         "name": "q1_center_kurtosis_diff",
         "rawType": "float64",
         "type": "float"
        },
        {
         "name": "q2_center_kurtosis_diff",
         "rawType": "float64",
         "type": "float"
        },
        {
         "name": "q3_center_kurtosis_diff",
         "rawType": "float64",
         "type": "float"
        },
        {
         "name": "q4_center_kurtosis_diff",
         "rawType": "float64",
         "type": "float"
        }
       ],
       "ref": "b5510462-4da6-4c5e-a45a-aeefa57aac04",
       "rows": [
        [
         "0",
         "81513635.8",
         "44729532.10410495",
         "52443168.0",
         "312082688.0",
         "64629676.0",
         "259639520.0",
         "2.9465941266322715",
         "8.921888512192051",
         "5.188653024370575",
         "0.21811949788405832",
         "108.0",
         "312082688.0",
         "99.15090949801555",
         "42673061729968.1",
         "4307873124.0",
         "64296613.79104478",
         "78353880.0",
         "7998609448.0",
         "119382230.56716418",
         "312082688.0",
         "3996244588.0",
         "60549160.42424242",
         "76248544.0",
         "66066614.4",
         "5775676.118431628",
         "78353880.0",
         "65794525.7",
         "9786855.593524199",
         "97410168.0",
         "144707963.0",
         "65498033.85369706",
         "312082688.0",
         "70969032.0",
         "22883799.869664513",
         "158939200.0",
         "60030043.9",
         "2982654.203724795",
         "67617072.0",
         "-44975.53768844221",
         "33649978.02913366",
         "156384016.0",
         "-156435104.0",
         "101.0",
         "98.0",
         "0.0",
         "0.7182293082786511",
         "0.3079130520716461",
         "0.29690803645893704",
         "0.0",
         "16302727160.0",
         "60176694.473946966",
         "430345031.0436047",
         "72826872.0",
         "83146104.0",
         "91807752.0",
         "78273800.0",
         "117340464.0",
         "20624462.0",
         "40208012.0",
         "62288492.0",
         "43432996.0",
         "65976672.0",
         "52749944.0",
         "53742692.0",
         "53172960.0",
         "52443168.0",
         "58129028.0",
         "152639200.0",
         "239255904.0",
         "312082688.0",
         "245602080.0",
         "312082688.0",
         "65341800.0",
         "67375128.0",
         "63062900.0",
         "61082628.0",
         "92182880.0",
         "99889256.0",
         "185513216.0",
         "258909728.0",
         "193158912.0",
         "253953664.0",
         "2.3036620902072746",
         "2.5081632003069134",
         "2.2857257511795313",
         "2.6902385951035663",
         "1.466253870302024",
         "5.218478167757532",
         "5.708044671822707",
         "4.351895431438519",
         "6.245193689258407",
         "1.2494765626634523",
         "3.877797842025757",
         "3.8216660022735596",
         "3.740751028060913",
         "3.7990715503692627",
         "3.330559730529785",
         "0.12876887536163353",
         "0.2043937164890624",
         "0.2866143678279348",
         "0.21353859141061207",
         "0.2842808730829462",
         "-44513592.0",
         "-34194360.0",
         "-25532712.0",
         "-39066664.0",
         "-45352208.0",
         "-25768660.0",
         "-3688180.0",
         "-22543676.0",
         "-159443488.0",
         "-72826784.0",
         "0.0",
         "-66480608.0",
         "-5379084.0",
         "-4386336.0",
         "-4956068.0",
         "-5685860.0",
         "0.5472381114959717",
         "0.4911062717437744",
         "0.41019129753112793",
         "0.46851181983947754",
         "-0.15551199772131266",
         "-0.07988715659388379",
         "0.002333494744988618",
         "-0.07074228167233412",
         "0.8374082199052506",
         "1.0419093300048894",
         "0.8194718808775072",
         "1.2239847248015423",
         "3.9690016050940793",
         "4.458568109159255",
         "3.102418868775067",
         "4.995717126594955"
        ],
        [
         "1",
         "73851746.0",
         "25489430.655258812",
         "49036832.0",
         "211856544.0",
         "65678962.0",
         "162819712.0",
         "2.9615619859599094",
         "9.948810203251503",
         "5.250820281063199",
         "0.1438904367433642",
         "108.0",
         "211856544.0",
         "98.67762287759588",
         "42279536061145.03",
         "4355746416.0",
         "65011140.53731343",
         "74237208.0",
         "6387335480.0",
         "95333365.37313433",
         "211856544.0",
         "4027267304.0",
         "61019201.57575758",
         "71247656.0",
         "65584584.4",
         "4179175.8408486047",
         "74237208.0",
         "67025109.8",
         "5789549.000037012",
         "81254928.0",
         "108511204.4",
         "38517513.76331418",
         "211856544.0",
         "67612062.0",
         "12442976.451833798",
         "112103240.0",
         "60525769.4",
         "5138304.1709390115",
         "71247656.0",
         "-62729.10552763819",
         "20249008.185214702",
         "61410000.0",
         "-83478800.0",
         "107.0",
         "92.0",
         "0.0",
         "0.685817649747986",
         "0.25892704122268717",
         "0.2493033183732649",
         "0.0",
         "14770349200.0",
         "38632217.91495442",
         "309295976.171486",
         "69641464.0",
         "75421680.0",
         "79034760.0",
         "71309080.0",
         "94641360.0",
         "12159474.0",
         "21492098.0",
         "35543264.0",
         "25927542.0",
         "36062436.0",
         "56855896.0",
         "58248840.0",
         "51088672.0",
         "49036832.0",
         "60061304.0",
         "119623768.0",
         "166669616.0",
         "211856544.0",
         "186237248.0",
         "211856544.0",
         "65564952.0",
         "67562576.0",
         "65235112.0",
         "61740304.0",
         "79593912.0",
         "62767872.0",
         "108420776.0",
         "160767872.0",
         "137200416.0",
         "151795232.0",
         "2.2720878929429453",
         "2.5557334082856573",
         "2.3441616409144714",
         "2.673149924375121",
         "1.686298075418453",
         "5.280028648942194",
         "6.361528365384647",
         "5.138884146246841",
         "7.27620409915942",
         "2.288494118005799",
         "3.8983230590820312",
         "3.8780481815338135",
         "3.831425428390503",
         "3.8589656352996826",
         "3.402848720550537",
         "0.07958469076979902",
         "0.1213580056759658",
         "0.19803924429141082",
         "0.15173664725604366",
         "0.18794417931787769",
         "-24999896.0",
         "-19219680.0",
         "-15606600.0",
         "-23332280.0",
         "-23902962.0",
         "-14570338.0",
         "-519172.0",
         "-10134894.0",
         "-92232776.0",
         "-45186928.0",
         "0.0",
         "-25619296.0",
         "-3205408.0",
         "-1812464.0",
         "-8972632.0",
         "-11024472.0",
         "0.49547433853149414",
         "0.47519946098327637",
         "0.4285767078399658",
         "0.4561169147491455",
         "-0.10835948854807867",
         "-0.06658617364191188",
         "0.01009506497353313",
         "-0.036207532061834025",
         "0.5857898175244924",
         "0.8694353328672044",
         "0.6578635654960185",
         "0.986851848956668",
         "2.991534530936395",
         "4.073034247378848",
         "2.8503900282410424",
         "4.987709981153621"
        ],
        [
         "2",
         "112568053.52",
         "107074143.46959427",
         "52322216.0",
         "663184512.0",
         "67997612.0",
         "610862296.0",
         "3.0067298782779557",
         "9.446467224543207",
         "5.006573387235567",
         "0.3678421822923602",
         "102.0",
         "663184512.0",
         "100.47219060681863",
         "44808999846817.14",
         "4436520372.0",
         "66216721.97014926",
         "89700352.0",
         "13819047456.0",
         "206254439.64179105",
         "663184512.0",
         "4258042876.0",
         "64515801.15151515",
         "97103376.0",
         "66093659.7",
         "7703409.90006895",
         "89700352.0",
         "77564882.4",
         "20905358.10772227",
         "145958048.0",
         "265989880.8",
         "156504811.86395615",
         "663184512.0",
         "90593659.9",
         "48920405.88268107",
         "273644704.0",
         "62598184.8",
         "6149155.921733857",
         "75837920.0",
         "-71490.93467336684",
         "77740339.83155182",
         "356820224.0",
         "-326752096.0",
         "101.0",
         "98.0",
         "0.0",
         "0.737474362490604",
         "0.34028186460573734",
         "0.32506817030296337",
         "0.0",
         "22513610704.0",
         "95931804.07290155",
         "831731888.1930285",
         "88144320.0",
         "117938504.0",
         "139269072.0",
         "104920312.0",
         "204488544.0",
         "50884244.0",
         "103492168.0",
         "147094000.0",
         "97602360.0",
         "150530528.0",
         "55088512.0",
         "55102124.0",
         "52322216.0",
         "54322384.0",
         "63219976.0",
         "294115360.0",
         "540783808.0",
         "663184512.0",
         "524553024.0",
         "652826304.0",
         "67520672.0",
         "72010976.0",
         "68456240.0",
         "64840028.0",
         "133535344.0",
         "239026848.0",
         "485681696.0",
         "610862272.0",
         "470230656.0",
         "589606336.0",
         "2.438205376256989",
         "2.5349462187310396",
         "2.3589451546804394",
         "2.821909291424656",
         "1.3735523467982151",
         "5.380440312671498",
         "5.905476889652853",
         "4.8191690665083655",
         "7.438421505713755",
         "1.0613255214380786",
         "3.7865848541259766",
         "3.646268844604492",
         "3.529820203781128",
         "3.6305112838745117",
         "3.233020782470703",
         "0.23731887281748484",
         "0.3618925801721686",
         "0.44116494481221086",
         "0.35369426331361986",
         "0.3773270528467233",
         "-116344224.0",
         "-86550040.0",
         "-65219472.0",
         "-99568232.0",
         "-99646288.0",
         "-47038360.0",
         "-3436528.0",
         "-52928168.0",
         "-358710944.0",
         "-112042496.0",
         "10358208.0",
         "-128273280.0",
         "-8131464.0",
         "-8117852.0",
         "-10897760.0",
         "-8897592.0",
         "0.5535640716552734",
         "0.41324806213378906",
         "0.2967994213104248",
         "0.3974905014038086",
         "-0.14000818002923845",
         "-0.015434472674554722",
         "0.06383789196548756",
         "-0.023632789533103438",
         "1.064653029458774",
         "1.1613938719328245",
         "0.9853928078822243",
         "1.448356944626441",
         "4.319114791233419",
         "4.844151368214774",
         "3.757843545070287",
         "6.377095984275677"
        ],
        [
         "3",
         "78056509.44",
         "38615290.74147468",
         "55447152.0",
         "285261440.0",
         "64789514.0",
         "229814288.0",
         "3.3837888185371354",
         "11.704969706105574",
         "5.211150797092655",
         "0.17645073804622335",
         "77.0",
         "285261440.0",
         "93.78266755659834",
         "44076665521114.61",
         "5082294040.0",
         "75855134.92537314",
         "194783648.0",
         "6464182116.0",
         "96480330.08955224",
         "285261440.0",
         "4064825732.0",
         "61588268.666666664",
         "67305392.0",
         "65640985.2",
         "3789616.7621986475",
         "77153024.0",
         "111882493.2",
         "62498905.83723313",
         "285261440.0",
         "89526853.2",
         "39440210.852405556",
         "232530624.0",
         "61466684.4",
         "2576511.619370004",
         "67761312.0",
         "61765531.2",
         "1590865.3771220744",
         "65575464.0",
         "7083.37688442211",
         "36700752.52336388",
         "181243832.0",
         "-143257640.0",
         "101.0",
         "98.0",
         "0.0",
         "0.5502822327952253",
         "0.05936132073168961",
         "0.05647042999421024",
         "0.0",
         "15611301888.0",
         "35617073.921837464",
         "396732640.1737214",
         "91026568.0",
         "94456536.0",
         "64439492.0",
         "62303464.0",
         "101663400.0",
         "47395028.0",
         "52852568.0",
         "6657392.0",
         "3129680.5",
         "60240284.0",
         "60262672.0",
         "59094584.0",
         "57539128.0",
         "55447152.0",
         "55447152.0",
         "244783744.0",
         "285261440.0",
         "95906752.0",
         "72332256.0",
         "282190016.0",
         "69560216.0",
         "72085544.0",
         "62377640.0",
         "61910908.0",
         "72085544.0",
         "184521072.0",
         "226166848.0",
         "38367624.0",
         "16885104.0",
         "226742864.0",
         "1.9562154947429506",
         "2.354186204380841",
         "2.631418167796629",
         "1.0864220109532257",
         "1.6144471244310457",
         "2.5462228349147606",
         "4.968870231939914",
         "8.368533251057862",
         "2.085456046720177",
         "1.4239289432019246",
         "3.8035266399383545",
         "3.7920117378234863",
         "3.9070842266082764",
         "3.9107818603515625",
         "3.3210151195526123",
         "0.2263698445180572",
         "0.2399655205100241",
         "0.046281236050789785",
         "0.02644033439505102",
         "0.2798695585070417",
         "-10636832.0",
         "-7206864.0",
         "-37223908.0",
         "-39359936.0",
         "-12845256.0",
         "-7387716.0",
         "-53582892.0",
         "-57110604.0",
         "-37406272.0",
         "3071424.0",
         "-186283264.0",
         "-209857760.0",
         "4815520.0",
         "3647432.0",
         "2091976.0",
         "0.0",
         "0.4825115203857422",
         "0.470996618270874",
         "0.5860691070556641",
         "0.5897667407989502",
         "-0.05349971398898451",
         "-0.03990403799701761",
         "-0.2335883224562519",
         "-0.2534292241119907",
         "0.341768370311905",
         "0.7397390799497954",
         "1.0169710433655834",
         "-0.52802511347782",
         "1.122293891712836",
         "3.5449412887379896",
         "6.944604307855937",
         "0.6615271035182522"
        ],
        [
         "4",
         "98950276.54",
         "59336974.0747588",
         "52390976.0",
         "350691200.0",
         "72418528.0",
         "298300224.0",
         "2.1677006360198146",
         "4.356929865221787",
         "5.158238501891508",
         "0.27224169215141436",
         "97.0",
         "350691200.0",
         "94.12353155268907",
         "46149478894087.15",
         "5428048164.0",
         "81015644.23880596",
         "129532320.0",
         "10281170720.0",
         "153450309.25373134",
         "350691200.0",
         "4080836424.0",
         "61830854.90909091",
         "72453344.0",
         "72001925.1",
         "6483507.276762415",
         "88079120.0",
         "110849757.2",
         "33701278.96554847",
         "213456240.0",
         "182326506.4",
         "77787478.7083967",
         "350691200.0",
         "69054805.3",
         "13004891.091400817",
         "116456504.0",
         "60518388.7",
         "4049093.7907074355",
         "70719360.0",
         "-100129.38693467337",
         "37445570.63722812",
         "135582256.0",
         "-163320040.0",
         "95.0",
         "104.0",
         "0.0",
         "0.8016119103836027",
         "0.48613877239661124",
         "0.4693464340335636",
         "0.0",
         "19790055308.0",
         "59999319.25795159",
         "499304889.8453281",
         "106201824.0",
         "124036864.0",
         "91640528.0",
         "73921896.0",
         "152215008.0",
         "52550376.0",
         "72419704.0",
         "61380180.0",
         "30790438.0",
         "73200296.0",
         "62688856.0",
         "63939592.0",
         "53125752.0",
         "52390976.0",
         "56384520.0",
         "282581632.0",
         "350691200.0",
         "333207680.0",
         "201261600.0",
         "320413824.0",
         "80542688.0",
         "96701328.0",
         "64395304.0",
         "63209736.0",
         "132848768.0",
         "219892768.0",
         "286751616.0",
         "280081920.0",
         "148870624.0",
         "264029312.0",
         "1.7717701429430455",
         "1.6178535494380548",
         "2.4283505492071384",
         "2.6462115139465916",
         "0.6238992374975418",
         "2.3312475161249884",
         "1.7198537546040251",
         "5.085905636719405",
         "6.2811869253844",
         "-0.6931521017342761",
         "3.8100738525390625",
         "3.7697882652282715",
         "3.748081684112549",
         "3.844374418258667",
         "3.353260040283203",
         "0.23753492625470626",
         "0.28818298383293534",
         "0.2735000390569566",
         "0.1657085526855762",
         "0.26972504069087916",
         "-46013184.0",
         "-28178144.0",
         "-60574480.0",
         "-78293112.0",
         "-20649920.0",
         "-780592.0",
         "-11820116.0",
         "-42409856.0",
         "-37832192.0",
         "30277376.0",
         "12793856.0",
         "-119152224.0",
         "6304336.0",
         "7555072.0",
         "-3258768.0",
         "-3993544.0",
         "0.4568138122558594",
         "0.41652822494506836",
         "0.3948216438293457",
         "0.49111437797546387",
         "-0.032190114436172895",
         "0.018457943142056177",
         "0.00377499836607742",
         "-0.10401648800530297",
         "1.1478709054455036",
         "0.993954311940513",
         "1.8044513117095966",
         "2.0223122764490498",
         "3.0243996178592645",
         "2.4130058563383012",
         "5.77905773845368",
         "6.974339027118676"
        ]
       ],
       "shape": {
        "columns": 134,
        "rows": 5
       }
      },
      "text/html": [
       "<div>\n",
       "<style scoped>\n",
       "    .dataframe tbody tr th:only-of-type {\n",
       "        vertical-align: middle;\n",
       "    }\n",
       "\n",
       "    .dataframe tbody tr th {\n",
       "        vertical-align: top;\n",
       "    }\n",
       "\n",
       "    .dataframe thead th {\n",
       "        text-align: right;\n",
       "    }\n",
       "</style>\n",
       "<table border=\"1\" class=\"dataframe\">\n",
       "  <thead>\n",
       "    <tr style=\"text-align: right;\">\n",
       "      <th></th>\n",
       "      <th>mean</th>\n",
       "      <th>std</th>\n",
       "      <th>min</th>\n",
       "      <th>max</th>\n",
       "      <th>median</th>\n",
       "      <th>range</th>\n",
       "      <th>skew</th>\n",
       "      <th>kurtosis</th>\n",
       "      <th>entropy</th>\n",
       "      <th>gini</th>\n",
       "      <th>...</th>\n",
       "      <th>q3_center_gini_diff</th>\n",
       "      <th>q4_center_gini_diff</th>\n",
       "      <th>q1_center_skew_diff</th>\n",
       "      <th>q2_center_skew_diff</th>\n",
       "      <th>q3_center_skew_diff</th>\n",
       "      <th>q4_center_skew_diff</th>\n",
       "      <th>q1_center_kurtosis_diff</th>\n",
       "      <th>q2_center_kurtosis_diff</th>\n",
       "      <th>q3_center_kurtosis_diff</th>\n",
       "      <th>q4_center_kurtosis_diff</th>\n",
       "    </tr>\n",
       "  </thead>\n",
       "  <tbody>\n",
       "    <tr>\n",
       "      <th>0</th>\n",
       "      <td>8.151364e+07</td>\n",
       "      <td>4.472953e+07</td>\n",
       "      <td>52443168.0</td>\n",
       "      <td>312082688.0</td>\n",
       "      <td>64629676.0</td>\n",
       "      <td>259639520.0</td>\n",
       "      <td>2.946594</td>\n",
       "      <td>8.921889</td>\n",
       "      <td>5.188653</td>\n",
       "      <td>0.218119</td>\n",
       "      <td>...</td>\n",
       "      <td>0.002333</td>\n",
       "      <td>-0.070742</td>\n",
       "      <td>0.837408</td>\n",
       "      <td>1.041909</td>\n",
       "      <td>0.819472</td>\n",
       "      <td>1.223985</td>\n",
       "      <td>3.969002</td>\n",
       "      <td>4.458568</td>\n",
       "      <td>3.102419</td>\n",
       "      <td>4.995717</td>\n",
       "    </tr>\n",
       "    <tr>\n",
       "      <th>1</th>\n",
       "      <td>7.385175e+07</td>\n",
       "      <td>2.548943e+07</td>\n",
       "      <td>49036832.0</td>\n",
       "      <td>211856544.0</td>\n",
       "      <td>65678962.0</td>\n",
       "      <td>162819712.0</td>\n",
       "      <td>2.961562</td>\n",
       "      <td>9.948810</td>\n",
       "      <td>5.250820</td>\n",
       "      <td>0.143890</td>\n",
       "      <td>...</td>\n",
       "      <td>0.010095</td>\n",
       "      <td>-0.036208</td>\n",
       "      <td>0.585790</td>\n",
       "      <td>0.869435</td>\n",
       "      <td>0.657864</td>\n",
       "      <td>0.986852</td>\n",
       "      <td>2.991535</td>\n",
       "      <td>4.073034</td>\n",
       "      <td>2.850390</td>\n",
       "      <td>4.987710</td>\n",
       "    </tr>\n",
       "    <tr>\n",
       "      <th>2</th>\n",
       "      <td>1.125681e+08</td>\n",
       "      <td>1.070741e+08</td>\n",
       "      <td>52322216.0</td>\n",
       "      <td>663184512.0</td>\n",
       "      <td>67997612.0</td>\n",
       "      <td>610862296.0</td>\n",
       "      <td>3.006730</td>\n",
       "      <td>9.446467</td>\n",
       "      <td>5.006573</td>\n",
       "      <td>0.367842</td>\n",
       "      <td>...</td>\n",
       "      <td>0.063838</td>\n",
       "      <td>-0.023633</td>\n",
       "      <td>1.064653</td>\n",
       "      <td>1.161394</td>\n",
       "      <td>0.985393</td>\n",
       "      <td>1.448357</td>\n",
       "      <td>4.319115</td>\n",
       "      <td>4.844151</td>\n",
       "      <td>3.757844</td>\n",
       "      <td>6.377096</td>\n",
       "    </tr>\n",
       "    <tr>\n",
       "      <th>3</th>\n",
       "      <td>7.805651e+07</td>\n",
       "      <td>3.861529e+07</td>\n",
       "      <td>55447152.0</td>\n",
       "      <td>285261440.0</td>\n",
       "      <td>64789514.0</td>\n",
       "      <td>229814288.0</td>\n",
       "      <td>3.383789</td>\n",
       "      <td>11.704970</td>\n",
       "      <td>5.211151</td>\n",
       "      <td>0.176451</td>\n",
       "      <td>...</td>\n",
       "      <td>-0.233588</td>\n",
       "      <td>-0.253429</td>\n",
       "      <td>0.341768</td>\n",
       "      <td>0.739739</td>\n",
       "      <td>1.016971</td>\n",
       "      <td>-0.528025</td>\n",
       "      <td>1.122294</td>\n",
       "      <td>3.544941</td>\n",
       "      <td>6.944604</td>\n",
       "      <td>0.661527</td>\n",
       "    </tr>\n",
       "    <tr>\n",
       "      <th>4</th>\n",
       "      <td>9.895028e+07</td>\n",
       "      <td>5.933697e+07</td>\n",
       "      <td>52390976.0</td>\n",
       "      <td>350691200.0</td>\n",
       "      <td>72418528.0</td>\n",
       "      <td>298300224.0</td>\n",
       "      <td>2.167701</td>\n",
       "      <td>4.356930</td>\n",
       "      <td>5.158239</td>\n",
       "      <td>0.272242</td>\n",
       "      <td>...</td>\n",
       "      <td>0.003775</td>\n",
       "      <td>-0.104016</td>\n",
       "      <td>1.147871</td>\n",
       "      <td>0.993954</td>\n",
       "      <td>1.804451</td>\n",
       "      <td>2.022312</td>\n",
       "      <td>3.024400</td>\n",
       "      <td>2.413006</td>\n",
       "      <td>5.779058</td>\n",
       "      <td>6.974339</td>\n",
       "    </tr>\n",
       "  </tbody>\n",
       "</table>\n",
       "<p>5 rows × 134 columns</p>\n",
       "</div>"
      ],
      "text/plain": [
       "           mean           std         min          max      median  \\\n",
       "0  8.151364e+07  4.472953e+07  52443168.0  312082688.0  64629676.0   \n",
       "1  7.385175e+07  2.548943e+07  49036832.0  211856544.0  65678962.0   \n",
       "2  1.125681e+08  1.070741e+08  52322216.0  663184512.0  67997612.0   \n",
       "3  7.805651e+07  3.861529e+07  55447152.0  285261440.0  64789514.0   \n",
       "4  9.895028e+07  5.933697e+07  52390976.0  350691200.0  72418528.0   \n",
       "\n",
       "         range      skew   kurtosis   entropy      gini  ...  \\\n",
       "0  259639520.0  2.946594   8.921889  5.188653  0.218119  ...   \n",
       "1  162819712.0  2.961562   9.948810  5.250820  0.143890  ...   \n",
       "2  610862296.0  3.006730   9.446467  5.006573  0.367842  ...   \n",
       "3  229814288.0  3.383789  11.704970  5.211151  0.176451  ...   \n",
       "4  298300224.0  2.167701   4.356930  5.158239  0.272242  ...   \n",
       "\n",
       "   q3_center_gini_diff  q4_center_gini_diff  q1_center_skew_diff  \\\n",
       "0             0.002333            -0.070742             0.837408   \n",
       "1             0.010095            -0.036208             0.585790   \n",
       "2             0.063838            -0.023633             1.064653   \n",
       "3            -0.233588            -0.253429             0.341768   \n",
       "4             0.003775            -0.104016             1.147871   \n",
       "\n",
       "   q2_center_skew_diff  q3_center_skew_diff  q4_center_skew_diff  \\\n",
       "0             1.041909             0.819472             1.223985   \n",
       "1             0.869435             0.657864             0.986852   \n",
       "2             1.161394             0.985393             1.448357   \n",
       "3             0.739739             1.016971            -0.528025   \n",
       "4             0.993954             1.804451             2.022312   \n",
       "\n",
       "   q1_center_kurtosis_diff  q2_center_kurtosis_diff  q3_center_kurtosis_diff  \\\n",
       "0                 3.969002                 4.458568                 3.102419   \n",
       "1                 2.991535                 4.073034                 2.850390   \n",
       "2                 4.319115                 4.844151                 3.757844   \n",
       "3                 1.122294                 3.544941                 6.944604   \n",
       "4                 3.024400                 2.413006                 5.779058   \n",
       "\n",
       "   q4_center_kurtosis_diff  \n",
       "0                 4.995717  \n",
       "1                 4.987710  \n",
       "2                 6.377096  \n",
       "3                 0.661527  \n",
       "4                 6.974339  \n",
       "\n",
       "[5 rows x 134 columns]"
      ]
     },
     "execution_count": 15,
     "metadata": {},
     "output_type": "execute_result"
    }
   ],
   "source": [
    "# Usa la lista FEATURES già creata sopra per i nomi delle colonne\n",
    "fit_data_with_features_df = pd.DataFrame(fit_data_with_features_clean, columns=FEATURES)\n",
    "labels_clean_df = pd.DataFrame(labels_clean, columns=['0'])\n",
    "del fit_data_with_features_clean\n",
    "fit_data_with_features_df.head()\n",
    "\n"
   ]
  },
  {
   "cell_type": "markdown",
   "id": "2a218bf9",
   "metadata": {},
   "source": [
    "### Ricerca del miglior modello, modello singolo"
   ]
  },
  {
   "cell_type": "code",
   "execution_count": 20,
   "id": "b18243fd",
   "metadata": {},
   "outputs": [
    {
     "data": {
      "image/png": "[encoded data removed]",
      "text/plain": [
       "<Figure size 1700x600 with 1 Axes>"
      ]
     },
     "metadata": {},
     "output_type": "display_data"
    },
    {
     "name": "stdout",
     "output_type": "stream",
     "text": [
      "Creazione curva auc...\n"
     ]
    },
    {
     "data": {
      "text/html": [],
      "text/plain": [
       "<IPython.core.display.HTML object>"
      ]
     },
     "metadata": {},
     "output_type": "display_data"
    },
    {
     "name": "stdout",
     "output_type": "stream",
     "text": [
      "Errore durante la creazione della curva AUC: feature_names mismatch: ['feature_1', 'feature_3', 'feature_7', 'feature_8', 'feature_9', 'feature_11', 'feature_13', 'feature_14', 'feature_15', 'feature_17', 'feature_21', 'feature_24', 'feature_25', 'feature_26', 'feature_28', 'feature_36', 'feature_37', 'feature_38', 'feature_39', 'feature_40', 'feature_46', 'feature_47', 'feature_48', 'feature_51', 'feature_54', 'feature_63', 'feature_65', 'feature_73', 'feature_76', 'feature_77', 'feature_79', 'feature_86', 'feature_87', 'feature_89', 'feature_92', 'feature_93', 'feature_94', 'feature_107', 'feature_108', 'feature_109', 'feature_111', 'feature_112', 'feature_114', 'feature_119', 'feature_122', 'feature_123', 'feature_124', 'feature_127', 'feature_128', 'feature_129', 'feature_130', 'feature_132', 'feature_133'] ['feature_3', 'feature_5', 'feature_8', 'feature_9', 'feature_11', 'feature_13', 'feature_14', 'feature_15', 'feature_17', 'feature_21', 'feature_24', 'feature_25', 'feature_26', 'feature_28', 'feature_30', 'feature_36', 'feature_37', 'feature_38', 'feature_39', 'feature_40', 'feature_46', 'feature_47', 'feature_48', 'feature_51', 'feature_66', 'feature_73', 'feature_76', 'feature_77', 'feature_86', 'feature_89', 'feature_92', 'feature_93', 'feature_98', 'feature_99', 'feature_108', 'feature_109', 'feature_111', 'feature_112', 'feature_113', 'feature_114', 'feature_119', 'feature_120', 'feature_121', 'feature_122', 'feature_123', 'feature_124', 'feature_126', 'feature_127', 'feature_128', 'feature_129', 'feature_130', 'feature_132', 'feature_133']\n",
      "expected feature_54, feature_87, feature_63, feature_1, feature_79, feature_94, feature_7, feature_65, feature_107 in input data\n",
      "training data did not have the following fields: feature_121, feature_98, feature_5, feature_120, feature_126, feature_99, feature_113, feature_30, feature_66\n",
      "Creazione del grafico di vc...\n"
     ]
    },
    {
     "data": {
      "text/html": [],
      "text/plain": [
       "<IPython.core.display.HTML object>"
      ]
     },
     "metadata": {},
     "output_type": "display_data"
    },
    {
     "data": {
      "text/html": [],
      "text/plain": [
       "<IPython.core.display.HTML object>"
      ]
     },
     "metadata": {},
     "output_type": "display_data"
    },
    {
     "data": {
      "image/png": "[encoded data removed]",
      "text/plain": [
       "<Figure size 800x550 with 1 Axes>"
      ]
     },
     "metadata": {},
     "output_type": "display_data"
    },
    {
     "name": "stdout",
     "output_type": "stream",
     "text": [
      "Creazione del report di classificazione del modello...\n"
     ]
    },
    {
     "data": {
      "text/html": [],
      "text/plain": [
       "<IPython.core.display.HTML object>"
      ]
     },
     "metadata": {},
     "output_type": "display_data"
    },
    {
     "name": "stdout",
     "output_type": "stream",
     "text": [
      "Errore durante la creazione del report di classificazione: feature_names mismatch: ['feature_1', 'feature_3', 'feature_7', 'feature_8', 'feature_9', 'feature_11', 'feature_13', 'feature_14', 'feature_15', 'feature_17', 'feature_21', 'feature_24', 'feature_25', 'feature_26', 'feature_28', 'feature_36', 'feature_37', 'feature_38', 'feature_39', 'feature_40', 'feature_46', 'feature_47', 'feature_48', 'feature_51', 'feature_54', 'feature_63', 'feature_65', 'feature_73', 'feature_76', 'feature_77', 'feature_79', 'feature_86', 'feature_87', 'feature_89', 'feature_92', 'feature_93', 'feature_94', 'feature_107', 'feature_108', 'feature_109', 'feature_111', 'feature_112', 'feature_114', 'feature_119', 'feature_122', 'feature_123', 'feature_124', 'feature_127', 'feature_128', 'feature_129', 'feature_130', 'feature_132', 'feature_133'] ['feature_3', 'feature_5', 'feature_8', 'feature_9', 'feature_11', 'feature_13', 'feature_14', 'feature_15', 'feature_17', 'feature_21', 'feature_24', 'feature_25', 'feature_26', 'feature_28', 'feature_30', 'feature_36', 'feature_37', 'feature_38', 'feature_39', 'feature_40', 'feature_46', 'feature_47', 'feature_48', 'feature_51', 'feature_66', 'feature_73', 'feature_76', 'feature_77', 'feature_86', 'feature_89', 'feature_92', 'feature_93', 'feature_98', 'feature_99', 'feature_108', 'feature_109', 'feature_111', 'feature_112', 'feature_113', 'feature_114', 'feature_119', 'feature_120', 'feature_121', 'feature_122', 'feature_123', 'feature_124', 'feature_126', 'feature_127', 'feature_128', 'feature_129', 'feature_130', 'feature_132', 'feature_133']\n",
      "expected feature_54, feature_87, feature_63, feature_1, feature_79, feature_94, feature_7, feature_65, feature_107 in input data\n",
      "training data did not have the following fields: feature_121, feature_98, feature_5, feature_120, feature_126, feature_99, feature_113, feature_30, feature_66\n",
      "Creazione del grafico PR del modello...\n"
     ]
    },
    {
     "data": {
      "text/html": [],
      "text/plain": [
       "<IPython.core.display.HTML object>"
      ]
     },
     "metadata": {},
     "output_type": "display_data"
    },
    {
     "name": "stdout",
     "output_type": "stream",
     "text": [
      "Errore durante la creazione del grafico PR: feature_names mismatch: ['feature_1', 'feature_3', 'feature_7', 'feature_8', 'feature_9', 'feature_11', 'feature_13', 'feature_14', 'feature_15', 'feature_17', 'feature_21', 'feature_24', 'feature_25', 'feature_26', 'feature_28', 'feature_36', 'feature_37', 'feature_38', 'feature_39', 'feature_40', 'feature_46', 'feature_47', 'feature_48', 'feature_51', 'feature_54', 'feature_63', 'feature_65', 'feature_73', 'feature_76', 'feature_77', 'feature_79', 'feature_86', 'feature_87', 'feature_89', 'feature_92', 'feature_93', 'feature_94', 'feature_107', 'feature_108', 'feature_109', 'feature_111', 'feature_112', 'feature_114', 'feature_119', 'feature_122', 'feature_123', 'feature_124', 'feature_127', 'feature_128', 'feature_129', 'feature_130', 'feature_132', 'feature_133'] ['feature_3', 'feature_5', 'feature_8', 'feature_9', 'feature_11', 'feature_13', 'feature_14', 'feature_15', 'feature_17', 'feature_21', 'feature_24', 'feature_25', 'feature_26', 'feature_28', 'feature_30', 'feature_36', 'feature_37', 'feature_38', 'feature_39', 'feature_40', 'feature_46', 'feature_47', 'feature_48', 'feature_51', 'feature_66', 'feature_73', 'feature_76', 'feature_77', 'feature_86', 'feature_89', 'feature_92', 'feature_93', 'feature_98', 'feature_99', 'feature_108', 'feature_109', 'feature_111', 'feature_112', 'feature_113', 'feature_114', 'feature_119', 'feature_120', 'feature_121', 'feature_122', 'feature_123', 'feature_124', 'feature_126', 'feature_127', 'feature_128', 'feature_129', 'feature_130', 'feature_132', 'feature_133']\n",
      "expected feature_54, feature_87, feature_63, feature_1, feature_79, feature_94, feature_7, feature_65, feature_107 in input data\n",
      "training data did not have the following fields: feature_121, feature_98, feature_5, feature_120, feature_126, feature_99, feature_113, feature_30, feature_66\n",
      "Calibrazione del modello...\n"
     ]
    },
    {
     "data": {
      "text/html": [],
      "text/plain": [
       "<IPython.core.display.HTML object>"
      ]
     },
     "metadata": {},
     "output_type": "display_data"
    },
    {
     "name": "stdout",
     "output_type": "stream",
     "text": [
      "Errore durante la creazione del grafico di calibrazione: feature_names mismatch: ['feature_1', 'feature_3', 'feature_7', 'feature_8', 'feature_9', 'feature_11', 'feature_13', 'feature_14', 'feature_15', 'feature_17', 'feature_21', 'feature_24', 'feature_25', 'feature_26', 'feature_28', 'feature_36', 'feature_37', 'feature_38', 'feature_39', 'feature_40', 'feature_46', 'feature_47', 'feature_48', 'feature_51', 'feature_54', 'feature_63', 'feature_65', 'feature_73', 'feature_76', 'feature_77', 'feature_79', 'feature_86', 'feature_87', 'feature_89', 'feature_92', 'feature_93', 'feature_94', 'feature_107', 'feature_108', 'feature_109', 'feature_111', 'feature_112', 'feature_114', 'feature_119', 'feature_122', 'feature_123', 'feature_124', 'feature_127', 'feature_128', 'feature_129', 'feature_130', 'feature_132', 'feature_133'] ['feature_3', 'feature_5', 'feature_8', 'feature_9', 'feature_11', 'feature_13', 'feature_14', 'feature_15', 'feature_17', 'feature_21', 'feature_24', 'feature_25', 'feature_26', 'feature_28', 'feature_30', 'feature_36', 'feature_37', 'feature_38', 'feature_39', 'feature_40', 'feature_46', 'feature_47', 'feature_48', 'feature_51', 'feature_66', 'feature_73', 'feature_76', 'feature_77', 'feature_86', 'feature_89', 'feature_92', 'feature_93', 'feature_98', 'feature_99', 'feature_108', 'feature_109', 'feature_111', 'feature_112', 'feature_113', 'feature_114', 'feature_119', 'feature_120', 'feature_121', 'feature_122', 'feature_123', 'feature_124', 'feature_126', 'feature_127', 'feature_128', 'feature_129', 'feature_130', 'feature_132', 'feature_133']\n",
      "expected feature_54, feature_87, feature_63, feature_1, feature_79, feature_94, feature_7, feature_65, feature_107 in input data\n",
      "training data did not have the following fields: feature_121, feature_98, feature_5, feature_120, feature_126, feature_99, feature_113, feature_30, feature_66\n"
     ]
    },
    {
     "data": {
      "text/plain": [
       "<Figure size 800x550 with 0 Axes>"
      ]
     },
     "metadata": {},
     "output_type": "display_data"
    },
    {
     "data": {
      "image/png": "[encoded data removed]",
      "text/plain": [
       "<Figure size 700x600 with 1 Axes>"
      ]
     },
     "metadata": {},
     "output_type": "display_data"
    }
   ],
   "source": [
    "model_trainer = ModelTrainer(data=fit_data_with_features_df, labels=labels_clean_df)\n",
    "model_trainer.search_and_train_single_model(model_search=True, n_sample_per_class=250000)"
   ]
  },
  {
   "cell_type": "code",
   "execution_count": 17,
   "id": "6ae9653e",
   "metadata": {},
   "outputs": [],
   "source": [
    "#load_model = load_model('best_binary_classification_model')\n"
   ]
  },
  {
   "cell_type": "markdown",
   "id": "bbe16eb6",
   "metadata": {},
   "source": [
    "### Training dell'ensemble dei modelli migliori"
   ]
  },
  {
   "cell_type": "code",
   "execution_count": null,
   "id": "84310445",
   "metadata": {},
   "outputs": [
    {
     "data": {
      "image/png": "[encoded data removed]",
      "text/plain": [
       "<Figure size 1700x600 with 1 Axes>"
      ]
     },
     "metadata": {},
     "output_type": "display_data"
    },
    {
     "name": "stdout",
     "output_type": "stream",
     "text": [
      "Creazione curva auc...\n"
     ]
    },
    {
     "data": {
      "text/html": [],
      "text/plain": [
       "<IPython.core.display.HTML object>"
      ]
     },
     "metadata": {},
     "output_type": "display_data"
    },
    {
     "data": {
      "text/html": [],
      "text/plain": [
       "<IPython.core.display.HTML object>"
      ]
     },
     "metadata": {},
     "output_type": "display_data"
    },
    {
     "data": {
      "image/png": "[encoded data removed]",
      "text/plain": [
       "<Figure size 800x550 with 1 Axes>"
      ]
     },
     "metadata": {},
     "output_type": "display_data"
    },
    {
     "name": "stdout",
     "output_type": "stream",
     "text": [
      "Creazione del grafico di vc...\n"
     ]
    },
    {
     "data": {
      "text/html": [],
      "text/plain": [
       "<IPython.core.display.HTML object>"
      ]
     },
     "metadata": {},
     "output_type": "display_data"
    },
    {
     "name": "stdout",
     "output_type": "stream",
     "text": [
      "Errore durante la creazione del grafico di VC: Plot not supported for this estimator. Try different estimator.\n",
      "Creazione del report di classificazione del modello...\n"
     ]
    },
    {
     "data": {
      "text/html": [],
      "text/plain": [
       "<IPython.core.display.HTML object>"
      ]
     },
     "metadata": {},
     "output_type": "display_data"
    },
    {
     "data": {
      "text/html": [],
      "text/plain": [
       "<IPython.core.display.HTML object>"
      ]
     },
     "metadata": {},
     "output_type": "display_data"
    },
    {
     "data": {
      "image/png": "[encoded data removed]",
      "text/plain": [
       "<Figure size 800x550 with 2 Axes>"
      ]
     },
     "metadata": {},
     "output_type": "display_data"
    },
    {
     "name": "stdout",
     "output_type": "stream",
     "text": [
      "Creazione del grafico PR del modello...\n"
     ]
    },
    {
     "data": {
      "text/html": [],
      "text/plain": [
       "<IPython.core.display.HTML object>"
      ]
     },
     "metadata": {},
     "output_type": "display_data"
    },
    {
     "data": {
      "text/html": [],
      "text/plain": [
       "<IPython.core.display.HTML object>"
      ]
     },
     "metadata": {},
     "output_type": "display_data"
    },
    {
     "data": {
      "image/png": "[encoded data removed]",
      "text/plain": [
       "<Figure size 800x550 with 1 Axes>"
      ]
     },
     "metadata": {},
     "output_type": "display_data"
    },
    {
     "name": "stdout",
     "output_type": "stream",
     "text": [
      "Calibrazione del modello...\n"
     ]
    },
    {
     "data": {
      "text/html": [],
      "text/plain": [
       "<IPython.core.display.HTML object>"
      ]
     },
     "metadata": {},
     "output_type": "display_data"
    },
    {
     "data": {
      "text/html": [],
      "text/plain": [
       "<IPython.core.display.HTML object>"
      ]
     },
     "metadata": {},
     "output_type": "display_data"
    },
    {
     "data": {
      "image/png": "[encoded data removed]",
      "text/plain": [
       "<Figure size 700x600 with 1 Axes>"
      ]
     },
     "metadata": {},
     "output_type": "display_data"
    },
    {
     "name": "stdout",
     "output_type": "stream",
     "text": [
      "Transformation Pipeline and Model Successfully Saved\n"
     ]
    }
   ],
   "source": [
    "model_trainer = ModelTrainer(data=features_df, labels=labels_df)\n",
    "model_trainer.train_ensemble_model(n_sample_per_class=200000)"
   ]
  },
  {
   "cell_type": "code",
   "execution_count": null,
   "id": "297c192d",
   "metadata": {},
   "outputs": [],
   "source": []
  }
 ],
 "metadata": {
  "kernelspec": {
   "display_name": "great_clf",
   "language": "python",
   "name": "python3"
  },
  "language_info": {
   "codemirror_mode": {
    "name": "ipython",
    "version": 3
   },
   "file_extension": ".py",
   "mimetype": "text/x-python",
   "name": "python",
   "nbconvert_exporter": "python",
   "pygments_lexer": "ipython3",
   "version": "3.10.0"
  }
 },
 "nbformat": 4,
 "nbformat_minor": 5
}
