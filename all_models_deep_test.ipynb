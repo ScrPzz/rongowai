{
 "cells": [
  {
   "cell_type": "markdown",
   "id": "e257e919",
   "metadata": {},
   "source": [
    "### Routine per il fine tuning del modello "
   ]
  },
  {
   "cell_type": "code",
   "execution_count": 85,
   "id": "7a91782b",
   "metadata": {},
   "outputs": [],
   "source": [
    "import netCDF4\n",
    "import numpy as np\n",
    "import pandas as pd\n",
    "import geopandas as gpd\n",
    "\n",
    "from datetime import datetime, timedelta\n",
    "from tqdm import tqdm\n",
    "from shapely.geometry import Point\n",
    "\n",
    "from scipy.stats import skew, kurtosis, entropy\n",
    "\n",
    "from scipy.fft import fft\n",
    "from sklearn.preprocessing import MinMaxScaler\n",
    "\n",
    "from catboost import CatBoostClassifier\n",
    "from joblib import load\n",
    "\n",
    "import os\n",
    "\n",
    "from pycaret.classification import setup, load_model, load_experiment, compare_models, tune_model, finalize_model, save_model, plot_model, evaluate_model, dashboard, save_experiment, blend_models, get_config\n",
    "from sklearn.metrics import accuracy_score, confusion_matrix, classification_report\n",
    "import pyarrow as pa\n",
    "import pyarrow.parquet as pq\n",
    "from sklearn.model_selection import train_test_split\n",
    "\n",
    "\n",
    "from sklearn.metrics import roc_curve\n",
    "import seaborn as sns\n",
    "\n",
    "import pandas as pd\n",
    "\n",
    "\n",
    "from collections import Counter"
   ]
  },
  {
   "cell_type": "code",
   "execution_count": 86,
   "id": "f7983fb6",
   "metadata": {},
   "outputs": [],
   "source": [
    "ROOT_DIR = 'E:/data/RONGOWAI_L1_SDR_V1.0/'"
   ]
  },
  {
   "cell_type": "code",
   "execution_count": 87,
   "id": "6eb43cf3",
   "metadata": {},
   "outputs": [],
   "source": [
    "\n",
    "class SurfaceTypeUtils:\n",
    "    surface_type_dict = {\n",
    "        -1: \"Ocean\",\n",
    "        0: \"NaN\",\n",
    "        1: \"Artifical\",\n",
    "        2: \"Barely vegetated\",\n",
    "        3: \"Inland water\",\n",
    "        4: \"Crop\",\n",
    "        5: \"Grass\",\n",
    "        6: \"Shrub\",\n",
    "        7: \"Forest\"\n",
    "    }\n",
    "    ddm_antennas = {\n",
    "        0: 'None',\n",
    "        1: 'Zenith',\n",
    "        2: 'LHCP',\n",
    "        3: 'RHCP',\n",
    "    }"
   ]
  },
  {
   "cell_type": "code",
   "execution_count": 88,
   "id": "2fa9b3f1",
   "metadata": {},
   "outputs": [],
   "source": [
    "class NetCDFPreprocessor:\n",
    "    def __init__(self, root_dir, preprocessing_method=str):\n",
    "        self.root_dir = root_dir\n",
    "        self.netcdf_file_list = os.listdir(root_dir)\n",
    "        self.preprocessing_method = preprocessing_method\n",
    "        if self.preprocessing_method not in ['filtered', 'with_lat_lons', 'unfiltered']:\n",
    "            raise ValueError(\"Invalid preprocessing method. Choose from 'filtered', 'with_lat_lons', or 'unfiltered'.\")\n",
    "\n",
    "    @staticmethod\n",
    "    def check_integrity(f):\n",
    "        \"\"\"Check integrity of the netCDF file\"\"\"\n",
    "        if not isinstance(f, netCDF4.Dataset):\n",
    "            raise ValueError(\"Input must be a netCDF4.Dataset object\")\n",
    "        if 'raw_counts' not in f.variables:\n",
    "            raise KeyError(\"The netCDF file does not contain 'raw_counts' variable\")\n",
    "        if 'sp_alt' not in f.variables or 'sp_inc_angle' not in f.variables:\n",
    "            raise KeyError(\"The netCDF file does not contain 'sp_alt' or 'sp_inc_angle' variables\")\n",
    "        if 'sp_rx_gain_copol' not in f.variables or 'sp_rx_gain_xpol' not in f.variables or 'ddm_snr' not in f.variables:\n",
    "            raise KeyError(\"The netCDF file does not contain 'sp_rx_gain_copol', 'sp_rx_gain_xpol' or 'ddm_snr' variables\")\n",
    "        if 'sp_lat' not in f.variables or 'sp_lon' not in f.variables:\n",
    "            raise KeyError(\"The netCDF file does not contain 'sp_lat' or 'sp_lon' variables\")\n",
    "        if 'sp_surface_type' not in f.variables:\n",
    "            raise KeyError(\"The netCDF file does not contain 'sp_surface_type' variable\")\n",
    "        if 'ac_alt' not in f.variables:\n",
    "            raise KeyError(\"The netCDF file does not contain 'ac_alt' variable\")\n",
    "        if f.variables['raw_counts'].ndim != 4:\n",
    "            raise ValueError(\"The 'raw_counts' variable must have 4 dimensions\")\n",
    "        \n",
    "    def preprocess(self, f):\n",
    "        \"\"\" Preprocess the netCDF file and return fit data and labels \"\"\"\n",
    "        # Check integrity of the netCDF file\n",
    "        self.check_integrity(f)\n",
    "        \n",
    "        # Carica i dati una volta sola, evitando np.array() non necessario\n",
    "        raw_counts = f.variables['raw_counts'][:]\n",
    "        \n",
    "        # Ottimizzazione 1: Usa broadcasting invece di repeat\n",
    "        ac_alt = f.variables['ac_alt'][:]\n",
    "        sp_alt = f.variables['sp_alt'][:]\n",
    "        sp_inc_angle = f.variables['sp_inc_angle'][:]\n",
    "        \n",
    "        # Broadcasting più efficiente (evita repeat)\n",
    "        distance_2d = (ac_alt[:, np.newaxis] - sp_alt) / np.cos(np.deg2rad(sp_inc_angle))\n",
    "        \n",
    "        # Carica tutte le variabili necessarie\n",
    "        copol = f.variables['sp_rx_gain_copol'][:]\n",
    "        xpol = f.variables['sp_rx_gain_xpol'][:]\n",
    "        snr = f.variables['ddm_snr'][:]\n",
    "        \n",
    "        \n",
    "        keep_mask = (\n",
    "            (copol >= 5) & \n",
    "            (xpol >= 5) & \n",
    "            (snr > 0) & \n",
    "            (distance_2d >= 2000) & \n",
    "            (distance_2d <= 10000) &\n",
    "            ~np.isnan(copol) & \n",
    "            ~np.isnan(xpol) & \n",
    "            ~np.isnan(snr) & \n",
    "            ~np.isnan(distance_2d)\n",
    "        )\n",
    "        \n",
    "        output_array = np.full(raw_counts.shape, np.nan, dtype=np.float32)\n",
    "        i_indices, j_indices = np.where(keep_mask)\n",
    "        output_array[i_indices, j_indices] = raw_counts[i_indices, j_indices]\n",
    "        \n",
    "        n_time, n_samples = raw_counts.shape[:2]\n",
    "        raw_counts_reshaped = output_array.reshape(n_time * n_samples, *raw_counts.shape[2:])\n",
    "        \n",
    "        valid_mask = ~np.any(np.isnan(raw_counts_reshaped), axis=(1, 2)) & (np.sum(raw_counts_reshaped, axis=(1, 2)) > 0)\n",
    "        \n",
    "        fit_data = raw_counts_reshaped[valid_mask].reshape(valid_mask.sum(), -1)\n",
    "        \n",
    "        surface_types = np.nan_to_num(f.variables[\"sp_surface_type\"][:], nan=0).ravel()\n",
    "        label_data = np.isin(surface_types, np.arange(1, 8)).astype(np.int32)\n",
    "        label_data = label_data[valid_mask]\n",
    "        \n",
    "        assert fit_data.shape[0] == len(label_data), \\\n",
    "            f\"Shape mismatch: fit_data {fit_data.shape[0]}, label_data {len(label_data)}\"\n",
    "        \n",
    "        return fit_data, label_data\n",
    "    \n",
    "    def preprocess_w_lat_lons(self, f):\n",
    "        \"\"\" Version with latitude and longitude extraction \"\"\"\n",
    "\n",
    "        self.check_integrity(f)\n",
    "        raw_counts = np.array(f.variables['raw_counts'])\n",
    "                \n",
    "        # Calcolo distanza tra il punto speculare e l'aereo\n",
    "        ac_alt_2d = np.repeat(np.array(f.variables['ac_alt'])[:, np.newaxis], 20, axis=1)\n",
    "        distance_2d = (ac_alt_2d - f.variables['sp_alt'][:]) / np.cos(np.deg2rad(f.variables['sp_inc_angle'][:]))\n",
    "\n",
    "        # Seleziono gli indici dove sp_rx_gain_copol > 5, sp_rx_gain_xpol > 5 e ddm_snr > 0 e distanza tra punto speculare e antenna > 2000 e < 10000\n",
    "\n",
    "        copol = f.variables['sp_rx_gain_copol'][:]\n",
    "        xpol = f.variables['sp_rx_gain_xpol'][:]\n",
    "        snr = f.variables['ddm_snr'][:]\n",
    "        dist = distance_2d[:]\n",
    "        specular_point_lat = f.variables['sp_lat'][:]\n",
    "        specular_point_lon = f.variables['sp_lon'][:]\n",
    "\n",
    "        # Filtraggio dei dati\n",
    "        keep_mask = (copol >= 5) & (xpol >= 5) & (snr > 0) & ((dist >= 2000) & (dist <= 10000)) & (~np.isnan(copol.data) & ~np.isnan(xpol.data) & ~np.isnan(snr.data) & ~np.isnan(dist.data) & ~np.isnan(specular_point_lat.data) & ~np.isnan(specular_point_lon.data))\n",
    "        to_keep_indices = np.argwhere(keep_mask)\n",
    "        \n",
    "        filtered_raw_counts = [raw_counts[i, j] for i, j in to_keep_indices]\n",
    "        output_array = np.full(raw_counts.shape, np.nan, dtype=np.float32)\n",
    "\n",
    "        specular_point_lats = specular_point_lat[to_keep_indices[:, 0]]\n",
    "        specular_point_lons = specular_point_lon[to_keep_indices[:, 0]]\n",
    "        \n",
    "        for idx, (i, j) in enumerate(to_keep_indices):\n",
    "            output_array[i, j] = filtered_raw_counts[idx]\n",
    "                \n",
    "            raw_counts_filtered = output_array.copy()\n",
    "\n",
    "        raw_counts_filtered = output_array.copy()\n",
    "        del output_array\n",
    "\n",
    "        ddm_data_dict = {\n",
    "            'Raw_Counts': raw_counts_filtered.reshape(raw_counts_filtered.shape[0]*raw_counts_filtered.shape[1], raw_counts_filtered.shape[2], raw_counts_filtered.shape[3]),\n",
    "        }\n",
    "\n",
    "        keep_indices = np.where(\n",
    "            np.all(~np.isnan(ddm_data_dict['Raw_Counts']), axis=(1, 2)) & (np.sum(ddm_data_dict['Raw_Counts'], axis=(1, 2)) > 0)\n",
    "        )[0]\n",
    "        fit_data = np.array([ddm_data_dict['Raw_Counts'][f].ravel() for f in keep_indices])\n",
    "\n",
    "        specular_point_lats = specular_point_lat.ravel()[keep_indices]\n",
    "        specular_point_lons = specular_point_lon.ravel()[keep_indices]\n",
    "        \n",
    "        surface_types = f.variables[\"sp_surface_type\"][:]\n",
    "        surface_types = np.nan_to_num(surface_types, nan=0)\n",
    "        surface_types_unravelled = surface_types.ravel()\n",
    "        label_data = [1 if surface_type in np.arange(1, 8) else 0 for surface_type in surface_types_unravelled]\n",
    "        label_data = [label_data[lab] for lab in range(len(label_data)) if lab in keep_indices]\n",
    "\n",
    "        assert np.array(fit_data).shape[0] == len(label_data) == np.array(specular_point_lats).shape[0] == np.array(specular_point_lons).shape[0], \\\n",
    "            f\"Shape mismatch: fit_data {np.array(fit_data).shape[0]}, label_data {len(label_data)}, lats {np.array(specular_point_lats).shape[0]}, lons {np.array(specular_point_lons).shape[0]}\"\n",
    "        \n",
    "\n",
    "        return fit_data, label_data, specular_point_lats, specular_point_lons\n",
    "    \n",
    "    def preprocess_snr_unfiltered(self, f):\n",
    "        \"\"\" Preprocess the netCDF file and return fit data and labels without filtering on signal-to-noise ratio \"\"\"\n",
    "        # Check integrity of the netCDF file\n",
    "        self.check_integrity(f)\n",
    "        \n",
    "        # Carica i dati una volta sola, evitando np.array() non necessario\n",
    "        raw_counts = f.variables['raw_counts'][:]\n",
    "        \n",
    "        # Ottimizzazione 1: Usa broadcasting invece di repeat\n",
    "        ac_alt = f.variables['ac_alt'][:]\n",
    "        sp_alt = f.variables['sp_alt'][:]\n",
    "        sp_inc_angle = f.variables['sp_inc_angle'][:]\n",
    "        \n",
    "        \n",
    "        distance_2d = (ac_alt[:, np.newaxis] - sp_alt) / np.cos(np.deg2rad(sp_inc_angle))\n",
    "        \n",
    "        # Carica tutte le variabili necessarie\n",
    "        copol = f.variables['sp_rx_gain_copol'][:]\n",
    "        xpol = f.variables['sp_rx_gain_xpol'][:]\n",
    "        #snr = f.variables['ddm_snr'][:]\n",
    "        \n",
    "        \n",
    "        keep_mask = (\n",
    "            (copol >= 5) & \n",
    "            (xpol >= 5) & \n",
    "        #   (snr > 0) & ELiminato filtraggio su Signal-to-Noise Ratio \n",
    "            (distance_2d >= 2000) & \n",
    "            (distance_2d <= 10000) &\n",
    "            ~np.isnan(copol) & \n",
    "            ~np.isnan(xpol) & \n",
    "            #~np.isnan(snr) & \n",
    "            ~np.isnan(distance_2d)\n",
    "        )\n",
    "        \n",
    "        output_array = np.full(raw_counts.shape, np.nan, dtype=np.float32)\n",
    "        i_indices, j_indices = np.where(keep_mask)\n",
    "        output_array[i_indices, j_indices] = raw_counts[i_indices, j_indices]\n",
    "        \n",
    "        n_time, n_samples = raw_counts.shape[:2]\n",
    "        raw_counts_reshaped = output_array.reshape(n_time * n_samples, *raw_counts.shape[2:])\n",
    "        \n",
    "        valid_mask = ~np.any(np.isnan(raw_counts_reshaped), axis=(1, 2)) & (np.sum(raw_counts_reshaped, axis=(1, 2)) > 0)\n",
    "        \n",
    "        fit_data = raw_counts_reshaped[valid_mask].reshape(valid_mask.sum(), -1)\n",
    "        \n",
    "        surface_types = np.nan_to_num(f.variables[\"sp_surface_type\"][:], nan=0).ravel()\n",
    "        label_data = np.isin(surface_types, np.arange(1, 8)).astype(np.int32)\n",
    "        label_data = label_data[valid_mask]\n",
    "        \n",
    "        assert fit_data.shape[0] == len(label_data), \\\n",
    "            f\"Shape mismatch: fit_data {fit_data.shape[0]}, label_data {len(label_data)}\"\n",
    "        \n",
    "        return fit_data, label_data\n",
    "\n",
    "\n",
    "    def process_all_files_random_picked(self, chunk_size = int, sample_fraction = float, n_files_to_pick= int, remove_chunks= bool):\n",
    "        \n",
    "        full_data = []\n",
    "        full_labels = []\n",
    "        counter = 0\n",
    "        # Prendi 500 file random dalla lista dei file netCDF\n",
    "        if int(len(self.netcdf_file_list)) > n_files_to_pick:\n",
    "            np.random.seed(42)\n",
    "            random_netcdf_selected_files = np.random.choice(self.netcdf_file_list, n_files_to_pick, replace=False)\n",
    "            print('Selezionati 500 file netCDF casuali dalla lista')\n",
    "        else:\n",
    "            random_netcdf_selected_files = self.netcdf_file_list\n",
    "\n",
    "        for file_name in tqdm(random_netcdf_selected_files, desc=\"Processing files\"):\n",
    "            if not file_name.endswith('.nc'):\n",
    "                continue\n",
    "            try:\n",
    "                f = netCDF4.Dataset(f'{self.root_dir}{file_name}')\n",
    "                if self.preprocessing_method == 'unfiltered':\n",
    "                    data, labels = self.preprocess_snr_unfiltered(f)\n",
    "                elif self.preprocessing_method == 'with_lat_lons':\n",
    "                    data, labels, latitudes, longitudes = self.preprocess_w_lat_lons(f)\n",
    "                else:\n",
    "                    # Default to filtered preprocessing\n",
    "                    data, labels = self.preprocess(f)\n",
    "                assert (len(data) == len(labels)), f\"Data and labels length mismatch in file {file_name}: {len(data)} != {len(labels)}\"\n",
    "                full_data.append(data)\n",
    "                full_labels.append(labels)\n",
    "            except Exception as e:\n",
    "                print(f\"Error processing file {file_name}: {e}\")\n",
    "                continue\n",
    "            counter += 1\n",
    "            if counter == n_files_to_pick:\n",
    "                break  # Limita il numero di file processati per test\n",
    "                \n",
    "        # Trova gli indici degli elementi di full_data con seconda dimensione uguale a 200\n",
    "        valid_indices = [i for i, arr in enumerate(full_data) if arr.ndim == 2 if arr.shape[1] == 200]\n",
    "\n",
    "        # Applica la selezione a full_data e full_labels\n",
    "        full_data_clean = [full_data[i] for i in valid_indices]\n",
    "        full_labels_clean = [full_labels[i] for i in valid_indices]\n",
    "        \n",
    "        # Chunking \n",
    "        os.makedirs('test_data/binary_classification', exist_ok=True)\n",
    "\n",
    "        chunk_size = chunk_size # dimensione del chunk in numero di campioni\n",
    "        sample_fraction = sample_fraction # frazione di dati da campionare per ogni chunk\n",
    "\n",
    "        full_data_sampled = []\n",
    "        full_labels_sampled = []\n",
    "\n",
    "        num_chunks = int(np.ceil(len(full_data_clean) / chunk_size))\n",
    "        print(f\"Total number of chunks: {num_chunks}\")\n",
    "        for idx in range(num_chunks):\n",
    "            start = idx * chunk_size\n",
    "            end = min((idx + 1) * chunk_size, len(full_data_clean))\n",
    "            chunk_data = np.vstack(full_data_clean[start:end])\n",
    "            chunk_labels = np.hstack(full_labels_clean[start:end])\n",
    "            \n",
    "            print(f\"Chunk {idx + 1}/{num_chunks} processed with shape {chunk_data.shape} and labels shape {chunk_labels.shape}\")\n",
    "\n",
    "            # Salva ogni chunk come file parquet separato\n",
    "            fit_data_df = pd.DataFrame(chunk_data)\n",
    "            labels_df = pd.DataFrame(chunk_labels, columns=['label'])\n",
    "\n",
    "            table_fit = pa.Table.from_pandas(fit_data_df, preserve_index=False)\n",
    "            table_labels = pa.Table.from_pandas(labels_df, preserve_index=False)\n",
    "\n",
    "            pq.write_table(\n",
    "                table_fit,\n",
    "                f'test_data/binary_classification/fit_data_chunk_{idx}.parquet',\n",
    "                compression='zstd',\n",
    "                use_dictionary=True,\n",
    "            )\n",
    "            pq.write_table(\n",
    "                table_labels,\n",
    "                f'test_data/binary_classification/labels_chunk_{idx}.parquet',\n",
    "                compression='zstd',\n",
    "                use_dictionary=True,\n",
    "            )\n",
    "            \n",
    "        # Imposta la frazione di dati da campionare per ogni chunk (es: 0.2 per il 20%)\n",
    "        \n",
    "            _, X_sampled, _, y_sampled = train_test_split(\n",
    "                chunk_data, chunk_labels, \n",
    "                test_size=sample_fraction, \n",
    "                stratify=chunk_labels, \n",
    "                random_state=42\n",
    "            )\n",
    "\n",
    "            \n",
    "            full_data_sampled.append(X_sampled)\n",
    "            full_labels_sampled.append(y_sampled)\n",
    "\n",
    "        del full_data, full_labels\n",
    "\n",
    "        full_data_sampled_stratified = np.vstack(full_data_sampled)\n",
    "        full_labels_sampled_stratified = np.hstack(full_labels_sampled)\n",
    "\n",
    "        del full_data_sampled, full_labels_sampled\n",
    "        print(f\"Shape of sampled data after chunking and sampling: {np.array(full_data_sampled_stratified).shape}\")\n",
    "        print(f\"Shape of sampled labels after chunking and sampling: {np.array(full_labels_sampled_stratified).shape}\")\n",
    "        \n",
    "        # Crea la cartella test_data se non esiste\n",
    "        os.makedirs('test_data/binary_classification', exist_ok=True)\n",
    "\n",
    "        # Salva fit_data in formato parquet \n",
    "        fit_data_df = pd.DataFrame(full_data_sampled_stratified)\n",
    "        table_fit = pa.Table.from_pandas(fit_data_df, preserve_index=False)\n",
    "        pq.write_table(\n",
    "            table_fit,\n",
    "            'test_data/binary_classification/fit_data_binary_test.parquet',\n",
    "            compression='zstd',\n",
    "            use_dictionary=True,\n",
    "            \n",
    "        )\n",
    "\n",
    "        # Salva labels in formato parquet \n",
    "        labels_df = pd.DataFrame(full_labels_sampled_stratified, columns=['label'])\n",
    "        table_labels = pa.Table.from_pandas(labels_df, preserve_index=False)\n",
    "        pq.write_table(\n",
    "            table_labels,\n",
    "            'test_data/binary_classification/labels_binary_test.parquet',\n",
    "            compression='zstd',\n",
    "            use_dictionary=True,\n",
    "            \n",
    "        )\n",
    "        del fit_data_df, labels_df, table_fit, table_labels\n",
    "        \n",
    "        print(\"Data and labels saved in test_data/binary_classification directory.\")\n",
    "        # Remove all chunk parquet files if flag is set\n",
    "        if remove_chunks:\n",
    "            try:\n",
    "                chunk_dir = 'test_data/binary_classification'\n",
    "                for fname in os.listdir(chunk_dir):\n",
    "                    if fname.startswith('fit_data_chunk_') or fname.startswith('labels_chunk_'):\n",
    "                        os.remove(os.path.join(chunk_dir, fname))\n",
    "                print(\"All chunk files removed.\")\n",
    "            except Exception as e:\n",
    "                print(f\"Error removing chunk files: {e}\")\n",
    "\n",
    "        return full_data_sampled_stratified, full_labels_sampled_stratified"
   ]
  },
  {
   "cell_type": "code",
   "execution_count": 89,
   "id": "cdea7418",
   "metadata": {},
   "outputs": [],
   "source": [
    "class DDMFeatureExtractor:\n",
    "    def __init__(self):\n",
    "        pass\n",
    "    def gini(self, array):\n",
    "            \"\"\"Calcola il coefficiente di Gini (disuguaglianza)\"\"\"\n",
    "            array = np.sort(array)\n",
    "            index = np.arange(1, array.shape[0] + 1)\n",
    "            return (np.sum((2 * index - array.shape[0] - 1) * array)) / (array.shape[0] * np.sum(array))    \n",
    "    def extract_ddm_features(self, fit_data: np.ndarray) -> pd.DataFrame:\n",
    "\n",
    "        \"\"\"\n",
    "        Estrae features dettagliate da raw_counts DDM (shape: n_samples x 200)\n",
    "        \"\"\"\n",
    "        features = []\n",
    "\n",
    "        for row in tqdm(fit_data, desc=\"Extracting DDM features\"):\n",
    "            f = {}\n",
    "            x = np.array(row, dtype=np.float64) + 1e-10  # evita log(0)\n",
    "\n",
    "            # 1. Statistiche base\n",
    "            f['mean'] = np.mean(x)\n",
    "            f['std'] = np.std(x)\n",
    "            f['min'] = np.min(x)\n",
    "            f['max'] = np.max(x)\n",
    "            f['median'] = np.median(x)\n",
    "            f['range'] = np.max(x) - np.min(x)\n",
    "            f['skew'] = skew(x)\n",
    "            f['kurtosis'] = kurtosis(x)\n",
    "            f['entropy'] = entropy(x)\n",
    "            f['gini'] = self.gini(x)\n",
    "\n",
    "            # 2. Posizionali\n",
    "            f['peak_index'] = np.argmax(x)\n",
    "            f['peak_value'] = np.max(x)\n",
    "            f['center_of_mass'] = np.sum(np.arange(len(x)) * x) / np.sum(x)\n",
    "            f['inertia'] = np.sum(((np.arange(len(x)) - f['center_of_mass'])**2) * x)\n",
    "\n",
    "            # 3. Segmentazione\n",
    "            thirds = np.array_split(x, 3)\n",
    "            for i, part in enumerate(thirds):\n",
    "                f[f'sum_third_{i+1}'] = np.sum(part)\n",
    "                f[f'mean_third_{i+1}'] = np.mean(part)\n",
    "                f[f'max_third_{i+1}'] = np.max(part)\n",
    "            \n",
    "            windows = np.array_split(x, 5)\n",
    "            for i, w in enumerate(windows):\n",
    "                f[f'mean_w{i+1}'] = np.mean(w)\n",
    "                f[f'std_w{i+1}'] = np.std(w)\n",
    "                f[f'max_w{i+1}'] = np.max(w)\n",
    "\n",
    "            # 4. Derivate e cambiamenti\n",
    "            dx = np.diff(x)\n",
    "            f['mean_diff'] = np.mean(dx)\n",
    "            f['std_diff'] = np.std(dx)\n",
    "            f['max_diff'] = np.max(dx)\n",
    "            f['min_diff'] = np.min(dx)\n",
    "            f['n_positive_diff'] = np.sum(dx > 0)\n",
    "            f['n_negative_diff'] = np.sum(dx < 0)\n",
    "            f['n_zero_diff'] = np.sum(dx == 0)\n",
    "\n",
    "            # 5. Autocorrelazioni (lag 1-3)\n",
    "            for lag in range(1, 4):\n",
    "                ac = np.corrcoef(x[:-lag], x[lag:])[0, 1] if len(x) > lag else np.nan\n",
    "                f[f'autocorr_lag{lag}'] = ac\n",
    "\n",
    "            # 6. FFT (spettro frequenze)\n",
    "            spectrum = np.abs(fft(x))\n",
    "            half_spectrum = spectrum[:len(spectrum)//2]  # simmetrico\n",
    "            f['fft_peak_freq'] = np.argmax(half_spectrum)\n",
    "            f['fft_max'] = np.max(half_spectrum)\n",
    "            f['fft_median'] = np.median(half_spectrum)\n",
    "            f['fft_mean'] = np.mean(half_spectrum)\n",
    "\n",
    "            \n",
    "            #Aggiungi le statistiche dei quadranti e del centro\n",
    "            ddm = row.reshape(10, 20)  # 10x20\n",
    "\n",
    "            # Quadranti\n",
    "            q1 = ddm[:5, :10].ravel()\n",
    "            q2 = ddm[:5, 10:].ravel()\n",
    "            q3 = ddm[5:, :10].ravel()\n",
    "            q4 = ddm[5:, 10:].ravel()\n",
    "            # Quadrante centrale (4x8 centrale)\n",
    "            center = ddm[3:7, 6:14].ravel()\n",
    "            \n",
    "            # Statistiche dei quadranti \n",
    "            f['q1_mean'] = np.mean(q1)\n",
    "            f['q2_mean'] = np.mean(q2)      \n",
    "            f['q3_mean'] = np.mean(q3)\n",
    "            f['q4_mean'] = np.mean(q4)\n",
    "            f['center_mean'] = np.mean(center)\n",
    "            f['q1_std'] = np.std(q1)\n",
    "            f['q2_std'] = np.std(q2)\n",
    "            f['q3_std'] = np.std(q3)\n",
    "            f['q4_std'] = np.std(q4)\n",
    "            f['center_std'] = np.std(center)\n",
    "            f['q1_min'] = np.min(q1)\n",
    "            f['q2_min'] = np.min(q2)\n",
    "            f['q3_min'] = np.min(q3)\n",
    "            f['q4_min'] = np.min(q4)\n",
    "            f['center_min'] = np.min(center)\n",
    "            f['q1_max'] = np.max(q1)\n",
    "            f['q2_max'] = np.max(q2)\n",
    "            f['q3_max'] = np.max(q3)\n",
    "            f['q4_max'] = np.max(q4)\n",
    "            f['center_max'] = np.max(center)\n",
    "            f['q1_median'] = np.median(q1)\n",
    "            f['q2_median'] = np.median(q2)\n",
    "            f['q3_median'] = np.median(q3)\n",
    "            f['q4_median'] = np.median(q4)\n",
    "            f['center_median'] = np.median(center)\n",
    "            f['q1_range'] = np.max(q1) - np.min(q1)\n",
    "            f['q2_range'] = np.max(q2) - np.min(q2)\n",
    "            f['q3_range'] = np.max(q3) - np.min(q3)\n",
    "            f['q4_range'] = np.max(q4) - np.min(q4)\n",
    "            f['center_range'] = np.max(center) - np.min(center)\n",
    "            f['q1_skew'] = skew(q1)\n",
    "            f['q2_skew'] = skew(q2)\n",
    "            f['q3_skew'] = skew(q3)\n",
    "            f['q4_skew'] = skew(q4)\n",
    "            f['center_skew'] = skew(center)\n",
    "            f['q1_kurtosis'] = kurtosis(q1)\n",
    "            f['q2_kurtosis'] = kurtosis(q2)\n",
    "            f['q3_kurtosis'] = kurtosis(q3)\n",
    "            f['q4_kurtosis'] = kurtosis(q4)\n",
    "            f['center_kurtosis'] = kurtosis(center)\n",
    "            f['q1_entropy'] = entropy(q1 + 1e-10)\n",
    "            f['q2_entropy'] = entropy(q2 + 1e-10)\n",
    "            f['q3_entropy'] = entropy(q3 + 1e-10)\n",
    "            f['q4_entropy'] = entropy(q4 + 1e-10)\n",
    "            f['center_entropy'] = entropy(center + 1e-10)\n",
    "            f['q1_gini'] = self.gini(q1)\n",
    "            f['q2_gini'] = self.gini(q2)\n",
    "            f['q3_gini'] = self.gini(q3)\n",
    "            f['q4_gini'] = self.gini(q4)\n",
    "            f['center_gini'] = self.gini(center)\n",
    "\n",
    "            # Statistiche di confronto tra quadranti e centro\n",
    "            \n",
    "            # Differenze tra media dei quadranti e centro\n",
    "            f['q1_center_mean_diff'] = f['q1_mean'] - f['center_mean']\n",
    "            f['q2_center_mean_diff'] = f['q2_mean'] - f['center_mean']\n",
    "            f['q3_center_mean_diff'] = f['q3_mean'] - f['center_mean']\n",
    "            f['q4_center_mean_diff'] = f['q4_mean'] - f['center_mean']\n",
    "\n",
    "            # Differenze tra std dei quadranti e centro\n",
    "            f['q1_center_std_diff'] = f['q1_std'] - f['center_std']\n",
    "            f['q2_center_std_diff'] = f['q2_std'] - f['center_std']\n",
    "            f['q3_center_std_diff'] = f['q3_std'] - f['center_std']\n",
    "            f['q4_center_std_diff'] = f['q4_std'] - f['center_std']\n",
    "\n",
    "            # Differenze tra max dei quadranti e centro\n",
    "            f['q1_center_max_diff'] = f['q1_max'] - f['center_max']\n",
    "            f['q2_center_max_diff'] = f['q2_max'] - f['center_max']\n",
    "            f['q3_center_max_diff'] = f['q3_max'] - f['center_max']\n",
    "            f['q4_center_max_diff'] = f['q4_max'] - f['center_max']\n",
    "\n",
    "            # Differenze tra min dei quadranti e centro\n",
    "            f['q1_center_min_diff'] = f['q1_min'] - f['center_min']\n",
    "            f['q2_center_min_diff'] = f['q2_min'] - f['center_min']\n",
    "            f['q3_center_min_diff'] = f['q3_min'] - f['center_min']\n",
    "            f['q4_center_min_diff'] = f['q4_min'] - f['center_min']\n",
    "\n",
    "            # Differenze tra entropia dei quadranti e centro\n",
    "            f['q1_center_entropy_diff'] = f['q1_entropy'] - f['center_entropy']\n",
    "            f['q2_center_entropy_diff'] = f['q2_entropy'] - f['center_entropy']\n",
    "            f['q3_center_entropy_diff'] = f['q3_entropy'] - f['center_entropy']\n",
    "            f['q4_center_entropy_diff'] = f['q4_entropy'] - f['center_entropy']\n",
    "\n",
    "            # Differenze tra gini dei quadranti e centro\n",
    "            f['q1_center_gini_diff'] = f['q1_gini'] - f['center_gini']\n",
    "            f['q2_center_gini_diff'] = f['q2_gini'] - f['center_gini']\n",
    "            f['q3_center_gini_diff'] = f['q3_gini'] - f['center_gini']\n",
    "            f['q4_center_gini_diff'] = f['q4_gini'] - f['center_gini']\n",
    "\n",
    "            # Differenze tra skewness dei quadranti e centro\n",
    "            f['q1_center_skew_diff'] = f['q1_skew'] - f['center_skew']\n",
    "            f['q2_center_skew_diff'] = f['q2_skew'] - f['center_skew']\n",
    "            f['q3_center_skew_diff'] = f['q3_skew'] - f['center_skew']\n",
    "            f['q4_center_skew_diff'] = f['q4_skew'] - f['center_skew']\n",
    "\n",
    "            # Differenze tra kurtosis dei quadranti e centro\n",
    "            f['q1_center_kurtosis_diff'] = f['q1_kurtosis'] - f['center_kurtosis']\n",
    "            f['q2_center_kurtosis_diff'] = f['q2_kurtosis'] - f['center_kurtosis']\n",
    "            f['q3_center_kurtosis_diff'] = f['q3_kurtosis'] - f['center_kurtosis']\n",
    "            f['q4_center_kurtosis_diff'] = f['q4_kurtosis'] - f['center_kurtosis']\n",
    "\n",
    "            features.append(f)\n",
    "            \n",
    "        return features"
   ]
  },
  {
   "cell_type": "markdown",
   "id": "b4971b94",
   "metadata": {},
   "source": [
    "### Test su 10 test_set da 50k campioni, classi distribuite uniformemente"
   ]
  },
  {
   "cell_type": "code",
   "execution_count": 90,
   "id": "73581470",
   "metadata": {},
   "outputs": [
    {
     "name": "stdout",
     "output_type": "stream",
     "text": [
      "Selezionati 500 file netCDF casuali dalla lista\n"
     ]
    },
    {
     "name": "stderr",
     "output_type": "stream",
     "text": [
      "Processing files:   0%|          | 0/1000 [00:00<?, ?it/s]"
     ]
    },
    {
     "name": "stderr",
     "output_type": "stream",
     "text": [
      "Processing files:   4%|▍         | 40/1000 [00:14<05:06,  3.14it/s]"
     ]
    },
    {
     "name": "stdout",
     "output_type": "stream",
     "text": [
      "Error processing file 20250212-195305_NZAA-NZWR_L1.nc: cannot reshape array of size 0 into shape (0,newaxis)\n"
     ]
    },
    {
     "name": "stderr",
     "output_type": "stream",
     "text": [
      "Processing files:  16%|█▋        | 164/1000 [00:56<03:45,  3.70it/s]"
     ]
    },
    {
     "name": "stdout",
     "output_type": "stream",
     "text": [
      "Error processing file 20240927-100501_NZHK-NZCH_L1.nc: cannot reshape array of size 0 into shape (0,newaxis)\n"
     ]
    },
    {
     "name": "stderr",
     "output_type": "stream",
     "text": [
      "Processing files:  31%|███       | 310/1000 [01:45<03:46,  3.05it/s]"
     ]
    },
    {
     "name": "stdout",
     "output_type": "stream",
     "text": [
      "Error processing file 20241218-201112_NZWN-NZTG_L1.nc: cannot reshape array of size 0 into shape (0,newaxis)\n"
     ]
    },
    {
     "name": "stderr",
     "output_type": "stream",
     "text": [
      "Processing files:  54%|█████▎    | 537/1000 [02:45<01:08,  6.73it/s]"
     ]
    },
    {
     "name": "stdout",
     "output_type": "stream",
     "text": [
      "Error processing file 20240913-073059_NZWB-NZWN_L1.nc: cannot reshape array of size 0 into shape (0,newaxis)\n"
     ]
    },
    {
     "name": "stderr",
     "output_type": "stream",
     "text": [
      "Processing files:  55%|█████▍    | 547/1000 [02:47<01:14,  6.11it/s]"
     ]
    },
    {
     "name": "stdout",
     "output_type": "stream",
     "text": [
      "Error processing file 20250212-174656_NZWB-NZAA_L1.nc: cannot reshape array of size 0 into shape (0,newaxis)\n"
     ]
    },
    {
     "name": "stderr",
     "output_type": "stream",
     "text": [
      "Processing files:  61%|██████    | 606/1000 [02:57<00:59,  6.59it/s]"
     ]
    },
    {
     "name": "stdout",
     "output_type": "stream",
     "text": [
      "Error processing file 20240926-121247_NZNV-NZCH_L1.nc: cannot reshape array of size 0 into shape (0,newaxis)\n"
     ]
    },
    {
     "name": "stderr",
     "output_type": "stream",
     "text": [
      "Processing files:  65%|██████▌   | 651/1000 [03:04<01:00,  5.78it/s]"
     ]
    },
    {
     "name": "stdout",
     "output_type": "stream",
     "text": [
      "Error processing file 20240912-190946_NZAA-NZWB_L1.nc: cannot reshape array of size 0 into shape (0,newaxis)\n"
     ]
    },
    {
     "name": "stderr",
     "output_type": "stream",
     "text": [
      "Processing files:  78%|███████▊  | 780/1000 [03:25<00:32,  6.83it/s]"
     ]
    },
    {
     "name": "stdout",
     "output_type": "stream",
     "text": [
      "Error processing file 20231107-134644_NZAA-NZKK_L1.nc: [Errno -101] NetCDF: HDF error: 'E:/data/RONGOWAI_L1_SDR_V1.0/20231107-134644_NZAA-NZKK_L1.nc'\n"
     ]
    },
    {
     "name": "stderr",
     "output_type": "stream",
     "text": [
      "Processing files:  91%|█████████ | 912/1000 [03:48<00:13,  6.54it/s]"
     ]
    },
    {
     "name": "stdout",
     "output_type": "stream",
     "text": [
      "Error processing file 20241219-091144_NZWN-NZNR_L1.nc: cannot reshape array of size 0 into shape (0,newaxis)\n"
     ]
    },
    {
     "name": "stderr",
     "output_type": "stream",
     "text": [
      "Processing files:  93%|█████████▎| 930/1000 [03:50<00:11,  6.18it/s]"
     ]
    },
    {
     "name": "stdout",
     "output_type": "stream",
     "text": [
      "Error processing file 20240913-110326_NZRO-NZWN_L1.nc: cannot reshape array of size 0 into shape (0,newaxis)\n"
     ]
    },
    {
     "name": "stderr",
     "output_type": "stream",
     "text": [
      "Processing files: 100%|██████████| 1000/1000 [04:02<00:00,  4.13it/s]\n"
     ]
    },
    {
     "name": "stdout",
     "output_type": "stream",
     "text": [
      "Total number of chunks: 4\n",
      "Chunk 1/4 processed with shape (1869943, 200) and labels shape (1869943,)\n",
      "Chunk 2/4 processed with shape (1901888, 200) and labels shape (1901888,)\n",
      "Chunk 3/4 processed with shape (1868695, 200) and labels shape (1868695,)\n",
      "Chunk 4/4 processed with shape (1918678, 200) and labels shape (1918678,)\n",
      "Shape of sampled data after chunking and sampling: (6803286, 200)\n",
      "Shape of sampled labels after chunking and sampling: (6803286,)\n",
      "Data and labels saved in test_data/binary_classification directory.\n",
      "All chunk files removed.\n"
     ]
    }
   ],
   "source": [
    "read_from_backup = False\n",
    "if read_from_backup:\n",
    "    \n",
    "    # Leggi i file parquet con polars\n",
    "    fit_data_pl = pd.read_parquet('C:/Users/atogni/Desktop/rongowai/test_data/binary_classification/fit_data_binary_test.parquet')\n",
    "    labels_pl = pd.read_parquet('C:/Users/atogni/Desktop/rongowai/test_data/binary_classification/labels_binary_test.parquet')\n",
    "\n",
    "    # Trasforma in numpy array\n",
    "    fit_data = fit_data_pl.to_numpy()\n",
    "    labels = labels_pl['label'].to_numpy()\n",
    "    del fit_data_pl, labels_pl\n",
    "else:\n",
    "    preprocessor = NetCDFPreprocessor(root_dir=ROOT_DIR, preprocessing_method='filtered')\n",
    "    fit_data, labels = preprocessor.process_all_files_random_picked(chunk_size=250, n_files_to_pick= 1000, sample_fraction=0.9,remove_chunks=True)"
   ]
  },
  {
   "cell_type": "code",
   "execution_count": 91,
   "id": "e59e4fa9",
   "metadata": {},
   "outputs": [],
   "source": [
    "num_samples = 2000000 \n",
    "indices = np.random.choice(fit_data.shape[0], size=num_samples, replace=False)\n",
    "fit_data = fit_data[indices]\n",
    "labels = labels[indices]"
   ]
  },
  {
   "cell_type": "code",
   "execution_count": 92,
   "id": "1282f9ff",
   "metadata": {},
   "outputs": [],
   "source": [
    "preprocessor = NetCDFPreprocessor(root_dir=ROOT_DIR, preprocessing_method='filtered')\n",
    "features_extractor = DDMFeatureExtractor()"
   ]
  },
  {
   "cell_type": "code",
   "execution_count": 93,
   "id": "537d6064",
   "metadata": {},
   "outputs": [
    {
     "name": "stderr",
     "output_type": "stream",
     "text": [
      "Estrazione features: 100%|██████████| 2000000/2000000 [15:19<00:00, 2174.42it/s]\n"
     ]
    }
   ],
   "source": [
    "#Estrazione delle features DDM\n",
    "from joblib import Parallel, delayed\n",
    "\n",
    "def extract_ddm_features_row(row):\n",
    "    return features_extractor.extract_ddm_features(np.array([row]))\n",
    "\n",
    "combined_features = Parallel(n_jobs=12, backend=\"loky\")(delayed(extract_ddm_features_row)(row) for row in tqdm(fit_data, desc=\"Estrazione features\"))"
   ]
  },
  {
   "cell_type": "code",
   "execution_count": 94,
   "id": "4490a929",
   "metadata": {},
   "outputs": [],
   "source": [
    "flat_features = [row[0] if isinstance(row, list) and len(row) > 0 else row for row in combined_features]\n",
    "FEATURES = list(flat_features[0].keys())\n",
    "\n",
    "combined_features = np.array([[row[key] for key in FEATURES] for row in flat_features])\n",
    "combined_features.shape\n",
    "\n",
    "# Rimuovo le righe con valori NaN o infiniti\n",
    "mask_finite = np.isfinite(combined_features).all(axis=1) & (np.abs(combined_features) < np.finfo(np.float64).max).all(axis=1)\n",
    "fit_data_with_features_clean = combined_features[mask_finite]\n",
    "labels_clean = labels[mask_finite]"
   ]
  },
  {
   "cell_type": "code",
   "execution_count": 95,
   "id": "73e8778e",
   "metadata": {},
   "outputs": [],
   "source": [
    "# cleanup memory\n",
    "del labels, fit_data\n",
    "del combined_features, flat_features"
   ]
  },
  {
   "cell_type": "code",
   "execution_count": 96,
   "id": "e48182ec",
   "metadata": {},
   "outputs": [],
   "source": [
    "# Salvo le features e le labels in formato parquet\n",
    "save = True\n",
    "if save:\n",
    "    # Crea la cartella processed_data/binary_classification/data_w_features se non esiste\n",
    "    os.makedirs('processed_data/binary_classification/data_w_features', exist_ok=True)\n",
    "    pd.DataFrame(fit_data_with_features_clean, columns=FEATURES).to_parquet('test_data/binary_classification/combined_features_filtered.parquet', index=False)\n",
    "    pd.DataFrame(labels_clean).to_parquet('test_data/binary_classification/labels_binary_filtered.parquet', index=False)"
   ]
  },
  {
   "cell_type": "code",
   "execution_count": 97,
   "id": "c67e5641",
   "metadata": {},
   "outputs": [
    {
     "name": "stdout",
     "output_type": "stream",
     "text": [
      "Subset 1: Counter({0: 25000, 1: 25000})\n",
      "Subset 2: Counter({1: 25000, 0: 25000})\n",
      "Subset 3: Counter({0: 25000, 1: 25000})\n",
      "Subset 4: Counter({1: 25000, 0: 25000})\n",
      "Subset 5: Counter({1: 25000, 0: 25000})\n",
      "Subset 6: Counter({0: 25000, 1: 25000})\n",
      "Subset 7: Counter({0: 25000, 1: 25000})\n",
      "Subset 8: Counter({0: 25000, 1: 25000})\n",
      "Subset 9: Counter({0: 25000, 1: 25000})\n",
      "Subset 10: Counter({0: 25000, 1: 25000})\n",
      "All subsets in subsets_X_filtered are different.\n"
     ]
    }
   ],
   "source": [
    "# Crea 10 subset bilanciati di 50000 campioni ciascuno e controllo integrità e distribuzione delle classi\n",
    "num_subsets = 10\n",
    "subset_size = 50000\n",
    "\n",
    "subsets_X_filtered = []\n",
    "subsets_y_filtered = []\n",
    "\n",
    "# Trova gli indici delle due classi\n",
    "idx_0 = np.where(labels_clean == 0)[0]\n",
    "idx_1 = np.where(labels_clean == 1)[0]\n",
    "min_class_size = min(len(idx_0), len(idx_1), subset_size // 2)\n",
    "\n",
    "for i in range(num_subsets):\n",
    "    idx_0_sample = np.random.choice(idx_0, size=min_class_size, replace=False)\n",
    "    idx_1_sample = np.random.choice(idx_1, size=min_class_size, replace=False)\n",
    "    idx_balanced = np.concatenate([idx_0_sample, idx_1_sample])\n",
    "    np.random.shuffle(idx_balanced)\n",
    "    subsets_X_filtered.append(fit_data_with_features_clean[idx_balanced])\n",
    "    subsets_y_filtered.append(labels_clean[idx_balanced])\n",
    "\n",
    "\n",
    "# Controlla la distribuzione delle classi in ogni subset\n",
    "for i, (X, y) in enumerate(zip(subsets_X_filtered, subsets_y_filtered)):\n",
    "    assert len(X) == subset_size, f\"Subset {i+1} size mismatch: {len(X)} != {subset_size}\"\n",
    "    assert len(y) == subset_size, f\"Subset {i+1} labels size mismatch: {len(y)} != {subset_size}\"\n",
    "    print(f\"Subset {i+1}: {Counter(y)}\")\n",
    "\n",
    "\n",
    "# Check if all elements in subsets_X_unfiltered are different\n",
    "all_unique = True\n",
    "for i in range(num_subsets):\n",
    "    for j in range(i + 1, num_subsets):\n",
    "        if np.array_equal(subsets_X_filtered[i], subsets_X_filtered[j]):\n",
    "            print(f\"Subset {i+1} and Subset {j+1} are identical!\")\n",
    "            all_unique = False\n",
    "if all_unique:\n",
    "    print(\"All subsets in subsets_X_filtered are different.\")\n",
    "            "
   ]
  },
  {
   "cell_type": "markdown",
   "id": "87517bbb",
   "metadata": {},
   "source": [
    "### Caricamento modelli\n"
   ]
  },
  {
   "cell_type": "code",
   "execution_count": 98,
   "id": "1ea08cb9",
   "metadata": {},
   "outputs": [],
   "source": [
    "def _load_catboost_model(model_path=str):\n",
    "        \"\"\"Carica il modello CatBoost dal percorso specificato\"\"\"\n",
    "        try:\n",
    "            model = CatBoostClassifier()\n",
    "            model.load_model(str(model_path))\n",
    "            #print(f\"Modello caricato con successo da: {model_path}\")\n",
    "            return model\n",
    "        except Exception as e:\n",
    "            print(f\"Errore nel caricamento del modello: {e}\")\n",
    "            raise"
   ]
  },
  {
   "cell_type": "code",
   "execution_count": null,
   "id": "d009b44a",
   "metadata": {},
   "outputs": [],
   "source": [
    "#Catboost! \n",
    "\n",
    "catboost_model_path = r\"./models/catboost_test120625_1946/catboost_trained_on_full_data_model_v1.cbm\"\n",
    "catboost_scaler_path = \"./models/catboost_test120625_1946/catboost_trained_on_full_data_model_v1_scaler.joblib\"\n",
    "catboost_scaler = load(catboost_scaler_path)\n",
    "xg_boost_model_path = \"./models/xgboost/xgboost_production_model_v1.joblib\"\n",
    "xg_boost_scaler_path = \"./models/xgboost/xgboost_production_model_v1_scaler.joblib\"\n",
    "xg_boost_scaler = load(xg_boost_scaler_path)\n",
    "\n",
    "voting_classifier_path = \"./models/voting_classifier/voting_classifier_v1.joblib\"\n",
    "\n",
    "\n",
    "\n",
    "\n",
    "models = {\n",
    "    'catboost': _load_catboost_model(catboost_model_path),\n",
    "    'xgboost': load(xg_boost_model_path)}\n"
   ]
  },
  {
   "cell_type": "code",
   "execution_count": null,
   "id": "4d111275",
   "metadata": {},
   "outputs": [],
   "source": [
    "#xg_boost_model_final = load_model(xg_boost_model_path)\n",
    "catboost_model_final = True\n",
    "xg_boost_model_final = True\n",
    "voting_classifier = True\n",
    "\n"
   ]
  },
  {
   "cell_type": "code",
   "execution_count": 150,
   "id": "1c2ed6ad",
   "metadata": {},
   "outputs": [
    {
     "name": "stdout",
     "output_type": "stream",
     "text": [
      "Contiene infiniti o valori troppo grandi: False\n"
     ]
    }
   ],
   "source": [
    "def check_infinite_or_large(arr, threshold=np.finfo(np.float64).max):\n",
    "    \"\"\"\n",
    "    Restituisce True se l'array numpy contiene valori infiniti o troppo grandi per float64.\n",
    "    \"\"\"\n",
    "    arr = np.asarray(arr)\n",
    "    has_inf = np.isinf(arr).any()\n",
    "    has_too_large = (np.abs(arr) >= threshold).any()\n",
    "    return has_inf or has_too_large\n",
    "\n",
    "# Esempio d'uso:\n",
    "result = check_infinite_or_large(catboost_scaler.transform(subsets_X_filtered[0]))\n",
    "print(\"Contiene infiniti o valori troppo grandi:\", result)"
   ]
  },
  {
   "cell_type": "code",
   "execution_count": 161,
   "id": "226dba30",
   "metadata": {},
   "outputs": [],
   "source": [
    "\n",
    "# Preprocessing for xg_boost_model_final (dict with scaler and label_encoder)\n",
    "from pyexpat import model\n",
    "\n",
    "\n",
    "def preprocess_for_xgboost(X):\n",
    "    return xg_boost_scaler.transform(X)\n",
    "\n",
    "def predict_with_xgboost(X):\n",
    "    X_proc = preprocess_for_xgboost(X)\n",
    "    model = load(xg_boost_model_path)\n",
    "    return model.predict(X_proc)\n",
    "\n",
    "def preprocess_for_catboost(X):\n",
    "        return catboost_scaler.transform(X)\n",
    "    \n",
    "def predict_with_catboost(X):\n",
    "    X_proc = preprocess_for_catboost(X)\n",
    "    model = _load_catboost_model(catboost_model_path)\n",
    "    return model.predict(X_proc)\n",
    "\n",
    "# Preprocessing for pycaret pipeline models\n",
    "def preprocess_for_pycaret(model, X):\n",
    "    # Applica MinMaxScaler se presente nella pipeline del modello pycaret\n",
    "    scaler = None\n",
    "    for name, step in model.named_steps.items():\n",
    "        if \"minmax\" in name or \"min_max\" in name:\n",
    "            scaler = step\n",
    "            break\n",
    "    if scaler is not None:\n",
    "        X = scaler.transform(X)\n",
    "    return X\n",
    "    #X = model.transform(X)\n",
    "    #feature_names = [f\"features_{i+1}\" for i in range(len(FEATURES))]\n",
    "    #return pd.DataFrame(X)\n",
    "    pass\n",
    "    \n",
    "def predict_with_pycaret(model, X):\n",
    "    #X_proc = preprocess_for_pycaret(model, X)\n",
    "    return model.predict(X)\n",
    "\n",
    "# Preprocessing for sklearn models (e.g., RandomForest)\n",
    "def preprocess_for_sklearn(X):\n",
    "    # Assume features are already in correct format\n",
    "    return X\n",
    "\n",
    "def predict_with_sklearn(model, X):\n",
    "    X_proc = preprocess_for_sklearn(X)\n",
    "    return model.predict(X_proc)\n"
   ]
  },
  {
   "cell_type": "markdown",
   "id": "308b6b23",
   "metadata": {},
   "source": [
    "### Test on filtered test data"
   ]
  },
  {
   "cell_type": "code",
   "execution_count": null,
   "id": "ac38ec2f",
   "metadata": {},
   "outputs": [
    {
     "name": "stdout",
     "output_type": "stream",
     "text": [
      "\n",
      "=== xgboost ===\n",
      "Subset 1: Accuracy = 0.8497\n",
      "Confusion Matrix:\n",
      "[[20378  4622]\n",
      " [ 2891 22109]]\n",
      "Subset 2: Accuracy = 0.8508\n",
      "Confusion Matrix:\n",
      "[[20367  4633]\n",
      " [ 2825 22175]]\n",
      "Subset 3: Accuracy = 0.8524\n",
      "Confusion Matrix:\n",
      "[[20420  4580]\n",
      " [ 2799 22201]]\n",
      "Subset 4: Accuracy = 0.8501\n",
      "Confusion Matrix:\n",
      "[[20427  4573]\n",
      " [ 2924 22076]]\n",
      "Subset 5: Accuracy = 0.8522\n",
      "Confusion Matrix:\n",
      "[[20392  4608]\n",
      " [ 2781 22219]]\n",
      "Subset 6: Accuracy = 0.8511\n",
      "Confusion Matrix:\n",
      "[[20392  4608]\n",
      " [ 2836 22164]]\n",
      "Subset 7: Accuracy = 0.8528\n",
      "Confusion Matrix:\n",
      "[[20442  4558]\n",
      " [ 2801 22199]]\n",
      "Subset 8: Accuracy = 0.8528\n",
      "Confusion Matrix:\n",
      "[[20458  4542]\n",
      " [ 2817 22183]]\n",
      "Subset 9: Accuracy = 0.8508\n",
      "Confusion Matrix:\n",
      "[[20451  4549]\n",
      " [ 2909 22091]]\n",
      "Subset 10: Accuracy = 0.8505\n",
      "Confusion Matrix:\n",
      "[[20414  4586]\n",
      " [ 2890 22110]]\n",
      "Mean Accuracy: 0.8513\n",
      "Std Accuracy: 0.0011\n",
      "\n",
      "Media accuratezze: 0.8513 ± 0.0011\n",
      "Confusion Matrix media:\n",
      "[[20414  4585]\n",
      " [ 2847 22152]]\n"
     ]
    },
    {
     "data": {
      "image/png": "[encoded data removed]",
      "text/plain": [
       "<Figure size 800x400 with 1 Axes>"
      ]
     },
     "metadata": {},
     "output_type": "display_data"
    },
    {
     "data": {
      "image/png": "[encoded data removed]",
      "text/plain": [
       "<Figure size 500x400 with 2 Axes>"
      ]
     },
     "metadata": {},
     "output_type": "display_data"
    },
    {
     "data": {
      "image/png": "[encoded data removed]",
      "text/plain": [
       "<Figure size 800x400 with 1 Axes>"
      ]
     },
     "metadata": {},
     "output_type": "display_data"
    },
    {
     "name": "stdout",
     "output_type": "stream",
     "text": [
      "\n",
      "=== catboost ===\n",
      "Subset 1: Accuracy = 0.8482\n",
      "Confusion Matrix:\n",
      "[[20345  4655]\n",
      " [ 2936 22064]]\n",
      "Subset 2: Accuracy = 0.8489\n",
      "Confusion Matrix:\n",
      "[[20320  4680]\n",
      " [ 2877 22123]]\n",
      "Subset 3: Accuracy = 0.8502\n",
      "Confusion Matrix:\n",
      "[[20368  4632]\n",
      " [ 2858 22142]]\n",
      "Subset 4: Accuracy = 0.8488\n",
      "Confusion Matrix:\n",
      "[[20420  4580]\n",
      " [ 2980 22020]]\n",
      "Subset 5: Accuracy = 0.8507\n",
      "Confusion Matrix:\n",
      "[[20381  4619]\n",
      " [ 2847 22153]]\n",
      "Subset 6: Accuracy = 0.8498\n",
      "Confusion Matrix:\n",
      "[[20359  4641]\n",
      " [ 2867 22133]]\n",
      "Subset 7: Accuracy = 0.8511\n",
      "Confusion Matrix:\n",
      "[[20409  4591]\n",
      " [ 2853 22147]]\n",
      "Subset 8: Accuracy = 0.8509\n",
      "Confusion Matrix:\n",
      "[[20423  4577]\n",
      " [ 2878 22122]]\n",
      "Subset 9: Accuracy = 0.8501\n",
      "Confusion Matrix:\n",
      "[[20443  4557]\n",
      " [ 2939 22061]]\n",
      "Subset 10: Accuracy = 0.8485\n",
      "Confusion Matrix:\n",
      "[[20359  4641]\n",
      " [ 2932 22068]]\n",
      "Mean Accuracy: 0.8497\n",
      "Std Accuracy: 0.0010\n",
      "\n",
      "Media accuratezze: 0.8497 ± 0.0010\n",
      "Confusion Matrix media:\n",
      "[[20382  4617]\n",
      " [ 2896 22103]]\n"
     ]
    },
    {
     "data": {
      "image/png": "[encoded data removed]",
      "text/plain": [
       "<Figure size 800x400 with 1 Axes>"
      ]
     },
     "metadata": {},
     "output_type": "display_data"
    },
    {
     "data": {
      "image/png": "[encoded data removed]",
      "text/plain": [
       "<Figure size 500x400 with 2 Axes>"
      ]
     },
     "metadata": {},
     "output_type": "display_data"
    },
    {
     "data": {
      "image/png": "[encoded data removed]",
      "text/plain": [
       "<Figure size 800x400 with 1 Axes>"
      ]
     },
     "metadata": {},
     "output_type": "display_data"
    }
   ],
   "source": [
    "\n",
    "# Build models dict with wrappers for preprocessing\n",
    "from numpy import void\n",
    "\n",
    "\n",
    "models = {}\n",
    "\n",
    "if xg_boost_model_final is not None:\n",
    "    models[\"xgboost\"] = type(\n",
    "        \"XGBWrapper\", (), {\"predict\": staticmethod(predict_with_xgboost)}\n",
    "    )()\n",
    "\n",
    "if best_binary_classification_model is not None:\n",
    "    models[\"Best Binary Classification Model\"] = type(\n",
    "        \"PyCaretWrapper\", (), {\"predict\": staticmethod(lambda X: predict_with_pycaret(best_binary_classification_model, X))}\n",
    "    )()\n",
    "\n",
    "if best_random_forest_model is not None:\n",
    "    models[\"Best Random Forest Model\"] = type(\n",
    "        \"RFWrapper\", (), {\"predict\": staticmethod(lambda X: predict_with_sklearn(best_random_forest_model, X))}\n",
    "    )()\n",
    "\n",
    "if best_binary_classification_ensembled_model is not None:\n",
    "    models[\"Best Binary Classification Ensembled Model\"] = type(\n",
    "        \"PyCaretEnsembleWrapper\", (), {\"predict\": staticmethod(lambda X: predict_with_pycaret(best_binary_classification_ensembled_model, X))}\n",
    "    )()\n",
    "\n",
    "if catboost_model_final is not None:\n",
    "    models[\"catboost\"] = type(\n",
    "        \"CatBoostWrapper\", (), {\"predict\": staticmethod(predict_with_catboost)}\n",
    "    )()\n",
    "    \n",
    "if voting_classifier is not None:\n",
    "    models[\"Voting Classifier\"] = type(\n",
    "        \"VotingClassifierWrapper\", (), {\"predict\": staticmethod(lambda X: voting_classifier.predict(X))}\n",
    "    )()\n",
    "\n",
    "for model_name, model in models.items():\n",
    "    print(f\"\\n=== {model_name} ===\")\n",
    "    accs = []\n",
    "    cms = []\n",
    "    for i in range(num_subsets):\n",
    "        X = subsets_X_filtered[i]\n",
    "        y = subsets_y_filtered[i]\n",
    "        \n",
    "        # Ricerca della soglia ottimale per la classificazione binaria (solo se il modello supporta predict_proba)\n",
    "        if hasattr(model, \"predict_proba\"):\n",
    "            y_proba = model.predict_proba(X)[:, 1]\n",
    "            fpr, tpr, thresholds = roc_curve(y, y_proba)\n",
    "            # Soglia ottimale: massimizza tpr - fpr (Youden's J statistic)\n",
    "            optimal_idx = np.argmax(tpr - fpr)\n",
    "            optimal_threshold = thresholds[optimal_idx]\n",
    "            print(f\"SOGLIA OTTIMALE DI CLASSIFICAZIONE: {optimal_threshold:.4f}\")\n",
    "            y_pred = (y_proba >= optimal_threshold).astype(int)\n",
    "        else:\n",
    "            y_pred = model.predict(X)\n",
    "\n",
    "        \n",
    "        acc = accuracy_score(y, y_pred)\n",
    "        cm = confusion_matrix(y, y_pred)\n",
    "        print(f\"Subset {i+1}: Accuracy = {acc:.4f}\")\n",
    "        print(f\"Confusion Matrix:\\n{cm}\")\n",
    "        accs.append(acc)\n",
    "        cms.append(cm)\n",
    "    print(f\"Mean Accuracy: {np.mean(accs):.4f}\")\n",
    "    print(f\"Std Accuracy: {np.std(accs):.4f}\")\n",
    "    \n",
    "    # Media delle accuratezze e confusion matrix media\n",
    "    mean_acc = np.mean(accs)\n",
    "    std_acc = np.std(accs)\n",
    "    mean_cm = np.mean(np.array(cms), axis=0)\n",
    "    print(f\"\\nMedia accuratezze: {mean_acc:.4f} ± {std_acc:.4f}\")\n",
    "    print(f\"Confusion Matrix media:\\n{mean_cm.astype(int)}\")\n",
    "    import matplotlib.pyplot as plt\n",
    "\n",
    "    # Plot accuracy per subset\n",
    "    plt.figure(figsize=(8, 4))\n",
    "    plt.plot(range(1, num_subsets + 1), accs, marker='o')\n",
    "    plt.title(f'Accuracy per subset - {model_name}')\n",
    "    plt.xlabel('Subset')\n",
    "    plt.ylabel('Accuracy')\n",
    "    plt.ylim(0, 1)\n",
    "    plt.grid(True)\n",
    "    plt.show()\n",
    "\n",
    "    # Plot mean confusion matrix\n",
    "    plt.figure(figsize=(5, 4))\n",
    "    sns.heatmap(mean_cm, annot=True, fmt='.0f', cmap='Blues')\n",
    "    plt.title(f'Mean Confusion Matrix - {model_name}')\n",
    "    plt.xlabel('Predicted')\n",
    "    plt.ylabel('True')\n",
    "    plt.show()\n",
    "    # Calcola il classification report medio su tutti i subset\n",
    "\n",
    "    reports = []\n",
    "    for i in range(num_subsets):\n",
    "        y_true = subsets_y_filtered[i]\n",
    "        y_pred = model.predict(subsets_X_filtered[i])\n",
    "        report = classification_report(y_true, y_pred, output_dict=True)\n",
    "        reports.append(report)\n",
    "        \n",
    "    # Scatter plot delle accuratezze in funzione del numero del test set\n",
    "    plt.figure(figsize=(8, 4))\n",
    "    plt.scatter(range(1, num_subsets + 1), accs, color='red')\n",
    "    plt.title(f'Scatter Plot Accuracy per Test Set - {model_name}')\n",
    "    plt.xlabel('Test Set Number')\n",
    "    plt.ylabel('Accuracy')\n",
    "    plt.ylim(0, 1)\n",
    "    plt.grid(True)\n",
    "    plt.show()\n",
    "\n",
    "    "
   ]
  },
  {
   "cell_type": "markdown",
   "id": "f3436bd3",
   "metadata": {},
   "source": [
    "### Test su dati non filtrati\n"
   ]
  },
  {
   "cell_type": "code",
   "execution_count": 71,
   "id": "3e18325c",
   "metadata": {},
   "outputs": [
    {
     "name": "stdout",
     "output_type": "stream",
     "text": [
      "Selezionati 500 file netCDF casuali dalla lista\n"
     ]
    },
    {
     "name": "stderr",
     "output_type": "stream",
     "text": [
      "Processing files:   4%|▍         | 40/1000 [00:04<01:41,  9.48it/s]"
     ]
    },
    {
     "name": "stdout",
     "output_type": "stream",
     "text": [
      "Error processing file 20250212-195305_NZAA-NZWR_L1.nc: cannot reshape array of size 0 into shape (0,newaxis)\n"
     ]
    },
    {
     "name": "stderr",
     "output_type": "stream",
     "text": [
      "Processing files:  16%|█▋        | 163/1000 [00:19<01:33,  8.95it/s]"
     ]
    },
    {
     "name": "stdout",
     "output_type": "stream",
     "text": [
      "Error processing file 20240927-100501_NZHK-NZCH_L1.nc: cannot reshape array of size 0 into shape (0,newaxis)\n"
     ]
    },
    {
     "name": "stderr",
     "output_type": "stream",
     "text": [
      "Processing files:  31%|███       | 311/1000 [00:38<01:28,  7.82it/s]"
     ]
    },
    {
     "name": "stdout",
     "output_type": "stream",
     "text": [
      "Error processing file 20241218-201112_NZWN-NZTG_L1.nc: cannot reshape array of size 0 into shape (0,newaxis)\n"
     ]
    },
    {
     "name": "stderr",
     "output_type": "stream",
     "text": [
      "Processing files:  54%|█████▎    | 537/1000 [01:05<00:52,  8.84it/s]"
     ]
    },
    {
     "name": "stdout",
     "output_type": "stream",
     "text": [
      "Error processing file 20240913-073059_NZWB-NZWN_L1.nc: cannot reshape array of size 0 into shape (0,newaxis)\n"
     ]
    },
    {
     "name": "stderr",
     "output_type": "stream",
     "text": [
      "Processing files:  55%|█████▍    | 548/1000 [01:06<00:56,  8.00it/s]"
     ]
    },
    {
     "name": "stdout",
     "output_type": "stream",
     "text": [
      "Error processing file 20250212-174656_NZWB-NZAA_L1.nc: cannot reshape array of size 0 into shape (0,newaxis)\n"
     ]
    },
    {
     "name": "stderr",
     "output_type": "stream",
     "text": [
      "Processing files:  60%|██████    | 605/1000 [01:13<00:40,  9.82it/s]"
     ]
    },
    {
     "name": "stdout",
     "output_type": "stream",
     "text": [
      "Error processing file 20240926-121247_NZNV-NZCH_L1.nc: cannot reshape array of size 0 into shape (0,newaxis)\n"
     ]
    },
    {
     "name": "stderr",
     "output_type": "stream",
     "text": [
      "Processing files:  65%|██████▌   | 652/1000 [01:19<00:50,  6.88it/s]"
     ]
    },
    {
     "name": "stdout",
     "output_type": "stream",
     "text": [
      "Error processing file 20240912-190946_NZAA-NZWB_L1.nc: cannot reshape array of size 0 into shape (0,newaxis)\n"
     ]
    },
    {
     "name": "stderr",
     "output_type": "stream",
     "text": [
      "Processing files:  78%|███████▊  | 780/1000 [01:35<00:25,  8.64it/s]"
     ]
    },
    {
     "name": "stdout",
     "output_type": "stream",
     "text": [
      "Error processing file 20231107-134644_NZAA-NZKK_L1.nc: [Errno -101] NetCDF: HDF error: 'E:/data/RONGOWAI_L1_SDR_V1.0/20231107-134644_NZAA-NZKK_L1.nc'\n"
     ]
    },
    {
     "name": "stderr",
     "output_type": "stream",
     "text": [
      "Processing files:  91%|█████████▏| 913/1000 [01:51<00:09,  9.58it/s]"
     ]
    },
    {
     "name": "stdout",
     "output_type": "stream",
     "text": [
      "Error processing file 20241219-091144_NZWN-NZNR_L1.nc: cannot reshape array of size 0 into shape (0,newaxis)\n"
     ]
    },
    {
     "name": "stderr",
     "output_type": "stream",
     "text": [
      "Processing files:  93%|█████████▎| 930/1000 [01:53<00:08,  8.14it/s]"
     ]
    },
    {
     "name": "stdout",
     "output_type": "stream",
     "text": [
      "Error processing file 20240913-110326_NZRO-NZWN_L1.nc: cannot reshape array of size 0 into shape (0,newaxis)\n"
     ]
    },
    {
     "name": "stderr",
     "output_type": "stream",
     "text": [
      "Processing files: 100%|██████████| 1000/1000 [02:01<00:00,  8.20it/s]\n"
     ]
    },
    {
     "name": "stdout",
     "output_type": "stream",
     "text": [
      "Total number of chunks: 4\n",
      "Chunk 1/4 processed with shape (6280148, 200) and labels shape (6280148,)\n",
      "Chunk 2/4 processed with shape (6267190, 200) and labels shape (6267190,)\n",
      "Chunk 3/4 processed with shape (6221175, 200) and labels shape (6221175,)\n",
      "Chunk 4/4 processed with shape (6057781, 200) and labels shape (6057781,)\n",
      "Shape of sampled data after chunking and sampling: (22343666, 200)\n",
      "Shape of sampled labels after chunking and sampling: (22343666,)\n",
      "Data and labels saved in test_data/binary_classification directory.\n",
      "All chunk files removed.\n"
     ]
    }
   ],
   "source": [
    "read_from_backup = False\n",
    "if read_from_backup:\n",
    "    \n",
    "    # Leggi i file parquet con polars\n",
    "    fit_data_pl = pd.read_parquet('C:/Users/atogni/Desktop/rongowai/test_data/binary_classification/fit_data_binary_test.parquet')\n",
    "    labels_pl = pd.read_parquet('C:/Users/atogni/Desktop/rongowai/test_data/binary_classification/labels_binary_test.parquet')\n",
    "\n",
    "    # Trasforma in numpy array\n",
    "    fit_data = fit_data_pl.to_numpy()\n",
    "    labels = labels_pl['label'].to_numpy()\n",
    "    del fit_data_pl, labels_pl\n",
    "else:\n",
    "    preprocessor = NetCDFPreprocessor(root_dir=ROOT_DIR, preprocessing_method='unfiltered')\n",
    "    fit_data, labels = preprocessor.process_all_files_random_picked(chunk_size=250, n_files_to_pick=1000, sample_fraction=0.9,remove_chunks=True)\n",
    "    \n",
    "\n",
    "num_samples = 2000000 \n",
    "indices = np.random.choice(fit_data.shape[0], size=num_samples, replace=False)\n",
    "fit_data = fit_data[indices]\n",
    "labels = labels[indices]"
   ]
  },
  {
   "cell_type": "code",
   "execution_count": 72,
   "id": "4218fea2",
   "metadata": {},
   "outputs": [],
   "source": [
    "preprocessor = NetCDFPreprocessor(root_dir=ROOT_DIR, preprocessing_method='unfiltered')\n",
    "features_extractor = DDMFeatureExtractor()"
   ]
  },
  {
   "cell_type": "code",
   "execution_count": 73,
   "id": "0c7e84fc",
   "metadata": {},
   "outputs": [
    {
     "name": "stderr",
     "output_type": "stream",
     "text": [
      "Estrazione features: 100%|██████████| 2000000/2000000 [15:56<00:00, 2091.00it/s]\n"
     ]
    }
   ],
   "source": [
    "#Estrazione delle features DDM\n",
    "from joblib import Parallel, delayed\n",
    "\n",
    "def extract_ddm_features_row(row):\n",
    "    return features_extractor.extract_ddm_features(np.array([row]))\n",
    "\n",
    "combined_features_unfiltered = Parallel(n_jobs=12, backend=\"loky\")(delayed(extract_ddm_features_row)(row) for row in tqdm(fit_data, desc=\"Estrazione features\"))"
   ]
  },
  {
   "cell_type": "code",
   "execution_count": 74,
   "id": "eb9bc75f",
   "metadata": {},
   "outputs": [],
   "source": [
    "flat_features_unfiltered = [row[0] if isinstance(row, list) and len(row) > 0 else row for row in combined_features_unfiltered]\n",
    "FEATURES = list(flat_features_unfiltered[0].keys())\n",
    "\n",
    "combined_features_unfiltered = np.array([[row[key] for key in FEATURES] for row in flat_features_unfiltered])\n",
    "combined_features_unfiltered.shape\n",
    "\n",
    "# Rimuovo le righe con valori NaN o infiniti\n",
    "mask_finite = np.isfinite(combined_features_unfiltered).all(axis=1) & (np.abs(combined_features_unfiltered) < np.finfo(np.float64).max).all(axis=1)\n",
    "fit_data_with_features_unfiltered_clean = combined_features_unfiltered[mask_finite]\n",
    "labels_unfiltered_clean = labels[mask_finite]"
   ]
  },
  {
   "cell_type": "code",
   "execution_count": 75,
   "id": "c9586c81",
   "metadata": {},
   "outputs": [],
   "source": [
    "# cleanup memory\n",
    "del labels, fit_data\n",
    "del combined_features_unfiltered, flat_features_unfiltered"
   ]
  },
  {
   "cell_type": "code",
   "execution_count": 76,
   "id": "3b644b93",
   "metadata": {},
   "outputs": [],
   "source": [
    "# Salvo le features e le labels in formato parquet\n",
    "save = True\n",
    "if save:\n",
    "    # Crea la cartella processed_data/binary_classification/data_w_features se non esiste\n",
    "    os.makedirs('processed_data/binary_classification/data_w_features', exist_ok=True)\n",
    "    pd.DataFrame(fit_data_with_features_unfiltered_clean, columns=FEATURES).to_parquet('test_data/binary_classification/combined_features_binary_snr_unfiltered.parquet', index=False)\n",
    "    pd.DataFrame(labels_unfiltered_clean).to_parquet('test_data/binary_classification/labels_binary_snr_unfiltered.parquet', index=False)"
   ]
  },
  {
   "cell_type": "code",
   "execution_count": null,
   "id": "4b7edbaf",
   "metadata": {},
   "outputs": [
    {
     "name": "stdout",
     "output_type": "stream",
     "text": [
      "Subset 1: Counter({1: 25000, 0: 25000})\n",
      "Subset 2: Counter({1: 25000, 0: 25000})\n",
      "Subset 3: Counter({1: 25000, 0: 25000})\n",
      "Subset 4: Counter({1: 25000, 0: 25000})\n",
      "Subset 5: Counter({1: 25000, 0: 25000})\n",
      "Subset 6: Counter({0: 25000, 1: 25000})\n",
      "Subset 7: Counter({0: 25000, 1: 25000})\n",
      "Subset 8: Counter({1: 25000, 0: 25000})\n",
      "Subset 9: Counter({1: 25000, 0: 25000})\n",
      "Subset 10: Counter({1: 25000, 0: 25000})\n"
     ]
    }
   ],
   "source": [
    "# Crea 10 subset bilanciati di 50000 campioni ciascuno e controllo integrità e distribuzione delle classi\n",
    "num_subsets = 10\n",
    "subset_size = 50000\n",
    "\n",
    "subsets_X_unfiltered = []\n",
    "subsets_y_unfiltered = []\n",
    "\n",
    "# Trova gli indici delle due classi\n",
    "idx_0 = np.where(labels_clean == 0)[0]\n",
    "idx_1 = np.where(labels_clean == 1)[0]\n",
    "min_class_size = min(len(idx_0), len(idx_1), subset_size // 2)\n",
    "\n",
    "for i in range(num_subsets):\n",
    "    idx_0_sample = np.random.choice(idx_0, size=min_class_size, replace=False)\n",
    "    idx_1_sample = np.random.choice(idx_1, size=min_class_size, replace=False)\n",
    "    idx_balanced = np.concatenate([idx_0_sample, idx_1_sample])\n",
    "    np.random.shuffle(idx_balanced)\n",
    "    subsets_X_unfiltered.append(fit_data_with_features_clean[idx_balanced])\n",
    "    subsets_y_unfiltered.append(labels_clean[idx_balanced])\n",
    "\n",
    "\n",
    "# Controlla la distribuzione delle classi in ogni subset\n",
    "for i, (X, y) in enumerate(zip(subsets_X_unfiltered, subsets_y_unfiltered)):\n",
    "    assert len(X) == subset_size, f\"Subset {i+1} size mismatch: {len(X)} != {subset_size}\"\n",
    "    assert len(y) == subset_size, f\"Subset {i+1} labels size mismatch: {len(y)} != {subset_size}\"\n",
    "    print(f\"Subset {i+1}: {Counter(y)}\")\n",
    "\n",
    "\n",
    "# Check if all elements in subsets_X_unfiltered are different\n",
    "all_unique = True\n",
    "for i in range(num_subsets):\n",
    "    for j in range(i + 1, num_subsets):\n",
    "        if np.array_equal(subsets_X_unfiltered[i], subsets_X_unfiltered[j]):\n",
    "            print(f\"Subset {i+1} and Subset {j+1} are identical!\")\n",
    "            all_unique = False\n",
    "if all_unique:\n",
    "    print(\"All subsets in subsets_X_unfiltered are different.\")"
   ]
  },
  {
   "cell_type": "code",
   "execution_count": 84,
   "id": "687759d2",
   "metadata": {},
   "outputs": [
    {
     "name": "stdout",
     "output_type": "stream",
     "text": [
      "\n",
      "=== CatBoost Model Final ===\n",
      "Subset 1: Accuracy = 0.8488\n",
      "Confusion Matrix:\n",
      "[[20353  4647]\n",
      " [ 2913 22087]]\n",
      "Subset 2: Accuracy = 0.8508\n",
      "Confusion Matrix:\n",
      "[[20464  4536]\n",
      " [ 2922 22078]]\n",
      "Subset 3: Accuracy = 0.8484\n",
      "Confusion Matrix:\n",
      "[[20369  4631]\n",
      " [ 2949 22051]]\n",
      "Subset 4: Accuracy = 0.8476\n",
      "Confusion Matrix:\n",
      "[[20334  4666]\n",
      " [ 2955 22045]]\n",
      "Subset 5: Accuracy = 0.8494\n",
      "Confusion Matrix:\n",
      "[[20351  4649]\n",
      " [ 2881 22119]]\n",
      "Subset 6: Accuracy = 0.8471\n",
      "Confusion Matrix:\n",
      "[[20390  4610]\n",
      " [ 3034 21966]]\n",
      "Subset 7: Accuracy = 0.8512\n",
      "Confusion Matrix:\n",
      "[[20471  4529]\n",
      " [ 2912 22088]]\n",
      "Subset 8: Accuracy = 0.8488\n",
      "Confusion Matrix:\n",
      "[[20402  4598]\n",
      " [ 2963 22037]]\n",
      "Subset 9: Accuracy = 0.8527\n",
      "Confusion Matrix:\n",
      "[[20422  4578]\n",
      " [ 2787 22213]]\n",
      "Subset 10: Accuracy = 0.8490\n",
      "Confusion Matrix:\n",
      "[[20332  4668]\n",
      " [ 2880 22120]]\n",
      "Mean Accuracy: 0.8494\n",
      "Std Accuracy: 0.0016\n",
      "\n",
      "Media accuratezze: 0.8494 ± 0.0016\n",
      "Confusion Matrix media:\n",
      "[[20388  4611]\n",
      " [ 2919 22080]]\n"
     ]
    },
    {
     "data": {
      "image/png": "[encoded data removed]",
      "text/plain": [
       "<Figure size 800x400 with 1 Axes>"
      ]
     },
     "metadata": {},
     "output_type": "display_data"
    },
    {
     "data": {
      "image/png": "[encoded data removed]",
      "text/plain": [
       "<Figure size 500x400 with 2 Axes>"
      ]
     },
     "metadata": {},
     "output_type": "display_data"
    },
    {
     "data": {
      "image/png": "[encoded data removed]",
      "text/plain": [
       "<Figure size 800x400 with 1 Axes>"
      ]
     },
     "metadata": {},
     "output_type": "display_data"
    }
   ],
   "source": [
    "# Build models dict with wrappers for preprocessing\n",
    "models = {}\n",
    "\n",
    "if xg_boost_model_final is not None:\n",
    "    models[\"XGBoost Model Final\"] = type(\n",
    "        \"XGBWrapper\", (), {\"predict\": staticmethod(predict_with_xgboost)}\n",
    "    )()\n",
    "\n",
    "if best_binary_classification_model is not None:\n",
    "    models[\"Best Binary Classification Model\"] = type(\n",
    "        \"PyCaretWrapper\", (), {\"predict\": staticmethod(lambda X: predict_with_pycaret(best_binary_classification_model, X))}\n",
    "    )()\n",
    "\n",
    "if best_random_forest_model is not None:\n",
    "    models[\"Best Random Forest Model\"] = type(\n",
    "        \"RFWrapper\", (), {\"predict\": staticmethod(lambda X: predict_with_sklearn(best_random_forest_model, X))}\n",
    "    )()\n",
    "\n",
    "if best_binary_classification_ensembled_model is not None:\n",
    "    models[\"Best Binary Classification Ensembled Model\"] = type(\n",
    "        \"PyCaretEnsembleWrapper\", (), {\"predict\": staticmethod(lambda X: predict_with_pycaret(best_binary_classification_ensembled_model, X))}\n",
    "    )()\n",
    "if catboost_model_final is not None:\n",
    "    models[\"CatBoost Model Final\"] = type(\n",
    "        \"CatBoostWrapper\", (), {\"predict\": staticmethod(predict_with_catboost)}\n",
    "    )()\n",
    "\n",
    "for model_name, model in models.items():\n",
    "    print(f\"\\n=== {model_name} ===\")\n",
    "    accs = []\n",
    "    cms = []\n",
    "    for i in range(num_subsets):\n",
    "        X = subsets_X_unfiltered[i]\n",
    "        y = subsets_y_unfiltered[i]\n",
    "        \n",
    "        # Ricerca della soglia ottimale per la classificazione binaria (solo se il modello supporta predict_proba)\n",
    "        if hasattr(model, \"predict_proba\"):\n",
    "            y_proba = model.predict_proba(X)[:, 1]\n",
    "            fpr, tpr, thresholds = roc_curve(y, y_proba)\n",
    "            # Soglia ottimale: massimizza tpr - fpr (Youden's J statistic)\n",
    "            optimal_idx = np.argmax(tpr - fpr)\n",
    "            optimal_threshold = thresholds[optimal_idx]\n",
    "            print(f\"SOGLIA OTTIMALE DI CLASSIFICAZIONE: {optimal_threshold:.4f}\")\n",
    "            y_pred = (y_proba >= optimal_threshold).astype(int)\n",
    "        else:\n",
    "            y_pred = model.predict(X)\n",
    "\n",
    "        \n",
    "        acc = accuracy_score(y, y_pred)\n",
    "        cm = confusion_matrix(y, y_pred)\n",
    "        print(f\"Subset {i+1}: Accuracy = {acc:.4f}\")\n",
    "        print(f\"Confusion Matrix:\\n{cm}\")\n",
    "        accs.append(acc)\n",
    "        cms.append(cm)\n",
    "    print(f\"Mean Accuracy: {np.mean(accs):.4f}\")\n",
    "    print(f\"Std Accuracy: {np.std(accs):.4f}\")\n",
    "    \n",
    "    # Media delle accuratezze e confusion matrix media\n",
    "    mean_acc = np.mean(accs)\n",
    "    std_acc = np.std(accs)\n",
    "    mean_cm = np.mean(np.array(cms), axis=0)\n",
    "    print(f\"\\nMedia accuratezze: {mean_acc:.4f} ± {std_acc:.4f}\")\n",
    "    print(f\"Confusion Matrix media:\\n{mean_cm.astype(int)}\")\n",
    "    import matplotlib.pyplot as plt\n",
    "\n",
    "    # Plot accuracy per subset\n",
    "    plt.figure(figsize=(8, 4))\n",
    "    plt.plot(range(1, num_subsets + 1), accs, marker='o')\n",
    "    plt.title(f'Accuracy per subset - {model_name}')\n",
    "    plt.xlabel('Subset')\n",
    "    plt.ylabel('Accuracy')\n",
    "    plt.ylim(0, 1)\n",
    "    plt.grid(True)\n",
    "    plt.show()\n",
    "\n",
    "    # Plot mean confusion matrix\n",
    "    plt.figure(figsize=(5, 4))\n",
    "    sns.heatmap(mean_cm, annot=True, fmt='.0f', cmap='Blues')\n",
    "    plt.title(f'Mean Confusion Matrix - {model_name}')\n",
    "    plt.xlabel('Predicted')\n",
    "    plt.ylabel('True')\n",
    "    plt.show()\n",
    "    # Calcola il classification report medio su tutti i subset\n",
    "\n",
    "    reports = []\n",
    "    for i in range(num_subsets):\n",
    "        y_true = subsets_y_unfiltered[i]\n",
    "        y_pred = model.predict(subsets_X_unfiltered[i])\n",
    "        report = classification_report(y_true, y_pred, output_dict=True)\n",
    "        reports.append(report)\n",
    "        \n",
    "    # Scatter plot delle accuratezze in funzione del numero del test set\n",
    "    plt.figure(figsize=(8, 4))\n",
    "    plt.scatter(range(1, num_subsets + 1), accs, color='red')\n",
    "    plt.title(f'Scatter Plot Accuracy per Test Set Unfiltered for SNR - {model_name}')\n",
    "    plt.xlabel('Test Set Number')\n",
    "    plt.ylabel('Accuracy')\n",
    "    plt.ylim(0, 1)\n",
    "    plt.grid(True)\n",
    "    plt.show()"
   ]
  },
  {
   "cell_type": "code",
   "execution_count": null,
   "id": "16592fe1",
   "metadata": {},
   "outputs": [],
   "source": []
  }
 ],
 "metadata": {
  "kernelspec": {
   "display_name": "great_clf",
   "language": "python",
   "name": "python3"
  },
  "language_info": {
   "codemirror_mode": {
    "name": "ipython",
    "version": 3
   },
   "file_extension": ".py",
   "mimetype": "text/x-python",
   "name": "python",
   "nbconvert_exporter": "python",
   "pygments_lexer": "ipython3",
   "version": "3.10.0"
  }
 },
 "nbformat": 4,
 "nbformat_minor": 5
}
